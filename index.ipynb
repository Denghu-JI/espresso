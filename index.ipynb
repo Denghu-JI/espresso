{
 "cells": [
  {
   "attachments": {},
   "cell_type": "markdown",
   "metadata": {},
   "source": [
    "# <img src=\"https://raw.githubusercontent.com/inlab-geo/cofi/main/docs/source/_static/latte_art_cropped.png\" width=\"5%\" padding=\"0\" margin=\"0\"/> CoFI Examples\n",
    "\n",
    "👋 Welcome!\n",
    "\n",
    "Here are a series of examples that use CoFI to perform a complete inversion workflow. \n",
    "\n",
    "## Examples\n",
    "\n",
    "Examples start from simple linear regression all the way up to practical geoscience applications.\n",
    "\n",
    "- 〰️ Polynomial linear regression \n",
    "    - [linear_regression.ipynb](examples/linear_regression/linear_regression.ipynb)\n",
    "    - [linear_regression_lab.ipynb](examples/linear_regression/linear_regression_lab.ipynb)\n",
    "- 〰️ Non-linear curve fitting\n",
    "    - [nonlinear_curve_fitting.ipynb](examples/nonlinear_curve_fitting/nonlinear_curve_fitting.ipynb)\n",
    "- ⚡️  Electrical resistivity tomography (ERT) via PyGIMLi\n",
    "    - [pygimli_ert.ipynb](examples/pygimli_ert/pygimli_ert.ipynb)\n",
    "- 🔋  Direct current induced polarization (DCIP) via PyGIMLi\n",
    "    - A synthetic data example [pygimli_dcip.ipynb](examples/pygimli_dcip/pygimli_dcip.ipynb)\n",
    "    - A real dataset example: [pygimli_dcip_century_tri_mesh.ipynb](examples/pygimli_dcip/pygimli_dcip_century_tri_mesh.ipynb)\n",
    "- 🔦 Xray tomography\n",
    "    - [xray_tompgraphy.ipynb](examples/xray_tomography/xray_tomography.ipynb)\n",
    "- 🌀 Seismic wave tomography via Fast Marching\n",
    "    - [fmm_tomography.ipynb](examples/fmm_tomography/fmm_tomography.ipynb)\n",
    "- 🌀 Surface wave tomography via Seislib\n",
    "    - [sw_tomography.ipynb](examples/sw_tomography/sw_tomography.ipynb)\n",
    "- 🌀 Receiver function inversion\n",
    "    - [receiver_function_inversion.ipynb](examples/receiver_function/receiver_function_inversion.ipynb)\n",
    "\n",
    "## Tutorials\n",
    "\n",
    "1. 〰️ Linear regression [link](tutorials/1_linear_regression.ipynb)\n",
    "2. 🔦 Linear & non-linear travel time tomography [link](tutorials/2_travel_time_tomography.ipynb)\n",
    "3. ⚡️ Electrical resistivity tomography [link](tutorials/3_electrical_resistivity_tomography.ipynb)\n",
    "\n",
    "## More resources & contacts\n",
    "\n",
    "Meantime, the CoFI documentation (access it [📄 here](https://cofi.readthedocs.io/en/latest/index.html)) is another useful resource for you to learn more about usages of CoFI.\n",
    "\n",
    "If you have any questions or feedback, please contact us at:\n",
    "- 💬 InLab Community Slack workspace [here](https://join.slack.com/t/inlab-community/shared_invite/zt-1ejny069z-v5ZyvP2tDjBR42OAu~TkHg) \n",
    "- 🔖 Github issues [here](https://github.com/inlab-geo/cofi-examples/issues) \n"
   ]
  }
 ],
 "metadata": {
  "kernelspec": {
   "display_name": "Python 3 (ipykernel)",
   "language": "python",
   "name": "python3"
  },
  "language_info": {
   "codemirror_mode": {
    "name": "ipython",
    "version": 3
   },
   "file_extension": ".py",
   "mimetype": "text/x-python",
   "name": "python",
   "nbconvert_exporter": "python",
   "pygments_lexer": "ipython3",
   "version": "3.9.16"
  },
  "vscode": {
   "interpreter": {
    "hash": "f53af8d4cb0cee79f8d6d6212f461365278bf68c0ce0b4237b6e88ef77d505ea"
   }
  }
 },
 "nbformat": 4,
 "nbformat_minor": 4
}

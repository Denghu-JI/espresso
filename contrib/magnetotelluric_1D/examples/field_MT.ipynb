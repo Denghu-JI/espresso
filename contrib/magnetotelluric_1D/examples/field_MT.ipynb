{
 "cells": [
  {
   "cell_type": "markdown",
   "id": "8ba378b5",
   "metadata": {},
   "source": [
    "# Inversion of field MT data from the Coompana Province, South Australia\n",
    "## MT site KN_1\n",
    "### Data source: https://ecat.ga.gov.au/geonetwork/srv/eng/catalog.search#/metadata/112942\n",
    "\n",
    "### Results report: https://ecat.ga.gov.au/geonetwork/srv/eng/catalog.search#/metadata/112981  (Figure 5)"
   ]
  },
  {
   "cell_type": "markdown",
   "id": "55759f12",
   "metadata": {},
   "source": [
    "## 0. Import modules"
   ]
  },
  {
   "cell_type": "code",
   "execution_count": 1,
   "id": "75225790",
   "metadata": {},
   "outputs": [],
   "source": [
    "import numpy as np\n",
    "import matplotlib.pyplot as plt\n",
    "from scipy.constants import mu_0\n",
    "from scipy.sparse import diags\n",
    "\n",
    "import cofi\n",
    "import cofi_espresso\n",
    "from cofi_espresso import Magnetotelluric1D"
   ]
  },
  {
   "cell_type": "code",
   "execution_count": 2,
   "id": "a1731232",
   "metadata": {},
   "outputs": [],
   "source": [
    "mt = Magnetotelluric1D()"
   ]
  },
  {
   "cell_type": "markdown",
   "id": "198063e9",
   "metadata": {},
   "source": [
    "#### 0.1 Load the data"
   ]
  },
  {
   "cell_type": "code",
   "execution_count": 3,
   "id": "939a9f47",
   "metadata": {},
   "outputs": [],
   "source": [
    "file_name = '16-A_KN2.dat'"
   ]
  },
  {
   "cell_type": "markdown",
   "id": "c2230be4",
   "metadata": {},
   "source": [
    "The data in the *16-A_KN2.dat*  file has been transformed from the original *16-A_KN2.edi*  file. \n",
    "\n",
    "The original file contains the information about the full impedance tensor $Z$ and its error. For the purpose of the 1D inversion presented here, we calculated beforehand the determinant of the complex impedance tensor, from which we then calculated the apparent resistivity, phase and their respective errors. "
   ]
  },
  {
   "cell_type": "code",
   "execution_count": 4,
   "id": "44ae9f07",
   "metadata": {},
   "outputs": [
    {
     "name": "stdout",
     "output_type": "stream",
     "text": [
      "        freq(Hz)      rho(ohm.m)         err_rho      phase(deg)       err_phase\n",
      "\n"
     ]
    }
   ],
   "source": [
    "# read and print the header\n",
    "f = open('../data/%s'%(file_name))\n",
    "header = f.readline()\n",
    "print(header)"
   ]
  },
  {
   "cell_type": "code",
   "execution_count": 5,
   "id": "1038d673",
   "metadata": {},
   "outputs": [],
   "source": [
    "# load the data, transform the apparent resistivity and its error to log10\n",
    "MTdata = np.loadtxt('../data/%s'%(file_name),skiprows=1)\n",
    "MTdata = MTdata[::2,:]\n",
    "\n",
    "freqs = MTdata[:,0]\n",
    "rho_app = MTdata[:,1]\n",
    "rho_app_err = MTdata[:,2]\n",
    "phase = MTdata[:,3]\n",
    "phase_err = MTdata[:,4]\n",
    "\n",
    "dobs = np.r_[np.log10(rho_app), phase]\n",
    "\n",
    "log10_drho_app = (1/np.log(10)) * (MTdata[:,2]/MTdata[:,1])\n"
   ]
  },
  {
   "cell_type": "code",
   "execution_count": 6,
   "id": "7e045f50",
   "metadata": {},
   "outputs": [],
   "source": [
    "# add an error floor to the data: if the error if lower than the floor, then it is raised to the floor\n",
    "# it prevents from including unrealistic small data error into the inversion\n",
    "\n",
    "error_floor_rho = 0.05 # the error floor is set as a percentage of the apparent resistivity \n",
    "ef_rho_log = np.log10(1 + error_floor_rho) \n",
    "ef_phy = (100 * error_floor_rho) * 0.286    \n",
    "\n",
    "err_rho_log = np.maximum(log10_drho_app, ef_rho_log)\n",
    "err_phy = np.maximum(MTdata[:,4], ef_phy)\n",
    "\n",
    "derr = np.r_[err_rho_log, err_phy]"
   ]
  },
  {
   "cell_type": "markdown",
   "id": "c73dc1f9",
   "metadata": {},
   "source": [
    "#### 0.2 Set-up and plot the data"
   ]
  },
  {
   "cell_type": "code",
   "execution_count": 7,
   "id": "90f0bdeb",
   "metadata": {},
   "outputs": [
    {
     "data": {
      "image/png": "[encoded data removed]",
      "text/plain": [
       "<Figure size 400x400 with 2 Axes>"
      ]
     },
     "metadata": {},
     "output_type": "display_data"
    }
   ],
   "source": [
    "#set observed data\n",
    "mt.set_obs_data(dobs, derr, freqs)\n",
    "# plot the data\n",
    "fig = mt.plot_data(mt.data, Cm = mt.covariance_matrix)"
   ]
  },
  {
   "cell_type": "markdown",
   "id": "acc3f0b8",
   "metadata": {},
   "source": [
    "#### 0.3. Define a starting 1D mesh and model for the inversion"
   ]
  },
  {
   "cell_type": "code",
   "execution_count": 8,
   "id": "a89b3a24",
   "metadata": {},
   "outputs": [
    {
     "name": "stdout",
     "output_type": "stream",
     "text": [
      "Model bottom: 102370.01 m\n"
     ]
    }
   ],
   "source": [
    "# the mesh contains many cells to produce a smooth model\n",
    "nLayers, min_thickness, vertical_growth= 80, 5, 1.1\n",
    "thicknesses = [min_thickness * vertical_growth**i for i in range(nLayers)]\n",
    "starting_depths = np.cumsum(thicknesses)\n",
    "starting_model = np.ones((len(starting_depths)+1)) * 2 # 100 ohm.m starting model (log10 scale) \n",
    "print('Model bottom: %.2f m'%starting_depths[-1])"
   ]
  },
  {
   "cell_type": "markdown",
   "id": "7d869e73",
   "metadata": {},
   "source": [
    "#### 0.4. Set new starting model, mesh and data "
   ]
  },
  {
   "cell_type": "code",
   "execution_count": 9,
   "id": "67ad229d",
   "metadata": {},
   "outputs": [],
   "source": [
    "mt.set_start_model(starting_model)\n",
    "mt.set_start_mesh(starting_depths)\n",
    "mt.set_obs_data(dobs, derr, freqs)"
   ]
  },
  {
   "cell_type": "markdown",
   "id": "606ebb3e",
   "metadata": {},
   "source": [
    "## 1. Define the problem"
   ]
  },
  {
   "cell_type": "markdown",
   "id": "3738a508",
   "metadata": {},
   "source": [
    "The inversion consists in minimizing the following cost function:\n",
    "$$\\Phi=\\Phi_d+{\\lambda\\Phi}_m$$\n",
    "\n",
    "$\\Phi_d$ is the data misfit term, defined as:\n",
    "$$\\Phi_d = ||W_d(d_{obs}-(F(m))||^2 = [d_{obs}-(F(m)]^T  W_d   [d_{obs}-(F(m)]$$\n",
    "\n",
    "with $W_d$ being the inverse data covariance matrix, $d_{obs}$ is the observed data and $F(m)$ the responses of the model $m$.\n",
    "\n",
    "\n",
    "\n",
    "$\\Phi_m$ is the model norm term, defined as: \n",
    "\n",
    "$$\\Phi_m=||L m||^2 = m^TL^TLm$$\n",
    "\n",
    "In this inversion we minimize the model term using first derivatives, i.e. it minimizes the model roughness.  $\\lambda$ is the regularization parameter, it defines the trade off between data misfit and model roughness. \n",
    "\n",
    "Following Brodie (2015) and Constable et al (1987) we define the regularization matrix $L$ as the first derivative operator $\\partial$ normalized by the layers geometry vector $D$ (the resistivity gradient between adjacent layers is normalized by the distance between the center of layers). It is defined as:\n",
    "\n",
    "$$L = D\\circ\\partial  $$\n",
    "\n",
    "$L$ is a $N-1 \\times N$ matrix, where $N$ is the number of model parameters $m$:\n",
    "\n",
    "$$L=D\\circ\\partial= \n",
    "\\frac{1}{(N -1)}\n",
    "\\begin{bmatrix}\n",
    "\\frac{\\sqrt{s_2}}{d_{12}}\\\\\n",
    "\\frac{\\sqrt{s_3}}{d_{23}}\\\\\n",
    "\\frac{\\sqrt{s_4}}{d_{34}}\\\\\n",
    "\\cdots\n",
    "\\end{bmatrix}\n",
    "\\circ\n",
    "\\begin{bmatrix}\n",
    "-1 & 1 & 0&0&&\\cdots \\\\  \n",
    "0& -1 & 1 &0&&\\cdots \\\\ \n",
    "0& 0 & -1 &1&&\\cdots \\\\ \n",
    "&&&\\cdots&& \\\\\n",
    "\\end{bmatrix} \n",
    "= \\frac{1}{(N -1)} \n",
    "\\begin{bmatrix}\n",
    "\\frac{-\\sqrt{s_2}}{d_{12}} & \\frac{\\sqrt{s_2}}{d_{12}} & 0&0&&\\cdots  \\\\  \n",
    "0& \\frac{-\\sqrt{s_3}}{d_{23}} & \\frac{\\sqrt{s_3}}{d_{23}} &0&&\\cdots \\\\ \n",
    "0& 0&\\frac{-\\sqrt{s_4}}{d_{34}} & \\frac{\\sqrt{s_4}}{d_{34}} &&\\cdots \\\\ \n",
    "&&&\\cdots&& \\\\\n",
    "\\end{bmatrix}\n",
    "$$\n",
    "\n",
    "with $d_{ij}$ the distance between center of adjacent layers, and $s_k$ defined as $s_k=\\frac{t_k}{\\overline{t}}$ with $t$ beeing the layer thicknesses. See Brodie(2015) for details.\n",
    "\n",
    "Following Key (2009) and Constable et al (1987), we can also define a penalty weights matrix $W_m$. The penalty weights matrix is a diagonal matrix applied to $L$. The weight $w_{ij}$ for the boundary beetween layer $i$ and $j$ defines the amount of smoothness constraint applied at that specific boundary. It is defined between 1 (smoothness applied) and 0 (no smoothness constraint) as each layer boundary. $W_m$ is a $N-1 \\times N-1$ matrix defined as:\n",
    "\n",
    "$$W_m = \\begin{bmatrix}\n",
    "w_{12} & 0 & 0 & 0&&\\cdots \\\\  \n",
    "0 & w_{23} & 0& 0&&\\cdots \\\\ \n",
    "0 & 0 & w_{34}& 0&&\\cdots \\\\ \n",
    "&&&\\cdots&& \\\\\n",
    "\\end{bmatrix}$$\n",
    "\n",
    "$W_m$ can be used to specify at which depths the smoothness constraint should be relaxed, allowing a sharp boundary to devellop. \n",
    "\n",
    "Finally, the regularization matrix $L$ takes the form:\n",
    "\n",
    "$$L = W_m D\\circ\\partial$$\n",
    "\n",
    "\n",
    "#### References:\n",
    "\n",
    "Brodie, R. C. (2015). User manual for Geoscience Australia’s airborne electromagnetic inversion software. Online: https://github.com/GeoscienceAustralia/ga-aem.git.\n",
    "\n",
    "Constable, S. C., Parker, R. L., & Constable, C. G. (1987). Occam’s inversion: A practical algorithm for generating smooth models from electromagnetic sounding data. Geophysics, 52(3), 289-300.\n",
    "\n",
    "Key, K. (2009). 1D inversion of multicomponent, multifrequency marine CSEM data: Methodology and synthetic studies for resolving thin resistive layers. Geophysics, 74(2), F9-F20."
   ]
  },
  {
   "cell_type": "code",
   "execution_count": 10,
   "id": "d821dfba",
   "metadata": {},
   "outputs": [],
   "source": [
    "# define regularization (following Constable 1987, Brodie 2015)\n",
    "def reg_mt(depths, lambda_reg = 1, depth_normalization = True, penalty_index = None):\n",
    "    # nL is the number of layers, equal to the number of model parameters\n",
    "    nL = len(depths) + 1\n",
    "    #layers thicknesses\n",
    "    th = [depths[i] - depths[i-1] for i in range(nL-1)] \n",
    "    th[0] = depths[0]\n",
    "    #thickness bottom half space (following Brodie (2015))\n",
    "    th = np.array(np.append(th, (th[-1])**2 / (th[-2]))) / 1000 #(in km)\n",
    "    #distance between center of adjacent layers\n",
    "    d_layers_centers = [((th[i]+th[i+1])/2) for i in range(len(th)-1)]\n",
    "    #define depth factor\n",
    "    if depth_normalization:\n",
    "        #mean layers thickness\n",
    "        th_mean = np.mean(th)\n",
    "        # define s_k\n",
    "        sk = [th[i]/th_mean for i in range(len(th))]\n",
    "        #define depth_factor\n",
    "        depth_norm = (1/(nL-1)) * np.array([np.sqrt(sk[i])/d_layers_centers[i] for i in range(nL-1)])\n",
    "    else:\n",
    "        depth_norm = [1/d_layers_centers[i] for i in range(nL-1)]\n",
    "    depth_norm = np.array(depth_norm).reshape((-1,1))\n",
    "    #define first derivative matrix \n",
    "    delta=((diags([-1, 1], [0,1], shape=(nL-1, nL)).toarray())) \n",
    "    #define penalty weights matrix\n",
    "    Wm = np.identity(nL-1) \n",
    "    if penalty_index is None:\n",
    "        return lambda_reg * Wm @ delta * (depth_norm)\n",
    "    else:\n",
    "        Wm[penalty_index,penalty_index] = 0.1\n",
    "        return lambda_reg * Wm @ delta * (depth_norm)\n"
   ]
  },
  {
   "cell_type": "code",
   "execution_count": 11,
   "id": "060179d6",
   "metadata": {},
   "outputs": [],
   "source": [
    "# get problem information from  espresso mt\n",
    "model_size = len(mt.starting_model)         # number of model parameters\n",
    "data_size = mt.data_size           # number of data points\n",
    "start_logres = mt.starting_model\n",
    "starting_depths = mt._dpstart"
   ]
  },
  {
   "cell_type": "code",
   "execution_count": 12,
   "id": "46ffee4c",
   "metadata": {},
   "outputs": [],
   "source": [
    "# define CoFI BaseProblem\n",
    "mt_problem = cofi.BaseProblem()\n",
    "mt_problem.set_initial_model(start_logres)"
   ]
  },
  {
   "cell_type": "code",
   "execution_count": 13,
   "id": "0063a6cb",
   "metadata": {},
   "outputs": [],
   "source": [
    "L = reg_mt(starting_depths, lambda_reg = 10, depth_normalization = True, penalty_index = None)"
   ]
  },
  {
   "cell_type": "code",
   "execution_count": 14,
   "id": "9d4c7387",
   "metadata": {},
   "outputs": [],
   "source": [
    "def objective_func(logres, reg, depths = starting_depths):\n",
    "    dpred = mt.forward(logres, depths=depths)\n",
    "    reg_smooth = logres.T @ reg.T @ reg @ logres\n",
    "    data_misfit = mt.misfit(mt.data,dpred,mt.inverse_covariance_matrix)\n",
    "    return  data_misfit + reg_smooth"
   ]
  },
  {
   "cell_type": "code",
   "execution_count": 15,
   "id": "ddac9857",
   "metadata": {},
   "outputs": [],
   "source": [
    "mt_problem.set_objective(objective_func, args=[L,starting_depths])"
   ]
  },
  {
   "cell_type": "code",
   "execution_count": 16,
   "id": "57100a5f",
   "metadata": {},
   "outputs": [],
   "source": [
    "#mt_problem.summary()"
   ]
  },
  {
   "cell_type": "markdown",
   "id": "f612cdd5",
   "metadata": {},
   "source": [
    "## 2. Define the inversion options"
   ]
  },
  {
   "cell_type": "code",
   "execution_count": 17,
   "id": "8c6dbb02",
   "metadata": {},
   "outputs": [],
   "source": [
    "#mt_problem.suggest_tools();"
   ]
  },
  {
   "cell_type": "code",
   "execution_count": 18,
   "id": "6e54eb0c",
   "metadata": {},
   "outputs": [],
   "source": [
    "my_options = cofi.InversionOptions()\n",
    "my_options.set_tool(\"scipy.optimize.minimize\")\n",
    "my_options.set_params(method=\"L-BFGS-B\",options={'ftol':1e-3,'maxiter': 100})\n",
    "#my_options.summary()"
   ]
  },
  {
   "cell_type": "code",
   "execution_count": 19,
   "id": "c3a2be06",
   "metadata": {},
   "outputs": [],
   "source": [
    "#my_options.suggest_solver_params()"
   ]
  },
  {
   "cell_type": "markdown",
   "id": "5faabc84",
   "metadata": {},
   "source": [
    "## 3. Start an inversion"
   ]
  },
  {
   "cell_type": "code",
   "execution_count": 20,
   "id": "1d06036c",
   "metadata": {},
   "outputs": [
    {
     "name": "stdout",
     "output_type": "stream",
     "text": [
      "============================\n",
      "Summary for inversion result\n",
      "============================\n",
      "SUCCESS\n",
      "----------------------------\n",
      "fun: 1.4217090152485112\n",
      "jac: [ 0.02771903  0.0565453   0.06239176  0.02715095  0.0216867   0.04333747\n",
      "  0.02177516 -0.01492615 -0.00116569  0.03244023  0.00041109 -0.10242727\n",
      " -0.12587351 -0.12837842 -0.12114922 -0.1158494  -0.12911217 -0.12385959\n",
      " -0.06273844 -0.00796652  0.01723381  0.02369882  0.02052576  0.0142369\n",
      "  0.00853762  0.00425375  0.00103086 -0.00149114 -0.00347085 -0.0049849\n",
      " -0.00612639 -0.0069853  -0.00761764 -0.00804175 -0.00825455 -0.00823963\n",
      " -0.00798381 -0.00748432 -0.0067653  -0.005885   -0.00491756 -0.0039432\n",
      " -0.00301417 -0.00214948 -0.00133094 -0.00052529  0.00030225  0.00117717\n",
      "  0.00212521  0.00316143  0.00428828  0.00549401  0.00675069  0.00801785\n",
      "  0.00925078  0.01040359  0.01143334  0.01229292  0.01292111  0.01325455\n",
      "  0.01325884  0.01297995  0.01259153  0.01244769  0.01314899  0.0156495\n",
      "  0.02123857  0.03045191  0.03967484  0.04120824  0.03404201  0.02467813\n",
      "  0.01730056  0.01236073  0.0091722   0.00713318  0.00589178  0.00526295\n",
      "  0.00516176  0.0058983   0.03434555]\n",
      "nfev: 2706\n",
      "njev: 33\n",
      "nit: 29\n",
      "status: 0\n",
      "message: CONVERGENCE: REL_REDUCTION_OF_F_<=_FACTR*EPSMCH\n",
      "hess_inv: <81x81 LbfgsInvHessProduct with dtype=float64>\n",
      "model: [1.90201398 1.93848051 1.97093654 1.9684298  1.91751203 1.80083464\n",
      " 1.59628435 1.31272519 1.00632736 0.72843256 0.48237231 0.37561882\n",
      " 0.39506394 0.40901696 0.36812799 0.27644138 0.18236358 0.18968533\n",
      " 0.36423239 0.6400408  0.93429797 1.20355928 1.4318381  1.61882436\n",
      " 1.77108475 1.89585866 1.99898493 2.08512166 2.15822824 2.22167726\n",
      " 2.27820886 2.32999323 2.3787951  2.42613561 2.47336863 2.52169858\n",
      " 2.57210888 2.62525145 2.681263   2.7396247  2.7991419  2.85811248\n",
      " 2.91466125 2.96710948 3.01424556 3.0553844  3.09026594 3.11895746\n",
      " 3.14181453 3.15940774 3.17239653 3.18135481 3.18654745 3.18773005\n",
      " 3.18405806 3.17418544 3.15660143 3.13003982 3.09361173 3.04658085\n",
      " 2.98789994 2.91571324 2.82713579 2.71858446 2.58711318 2.4336423\n",
      " 2.26934439 2.12452506 2.04865745 2.08021456 2.20805793 2.38533364\n",
      " 2.56954772 2.73850079 2.88526403 3.00671843 3.09664385 3.1451693\n",
      " 3.14164491 3.08282692 2.82965782]\n"
     ]
    }
   ],
   "source": [
    "inv = cofi.Inversion(mt_problem, my_options)\n",
    "inv_result = inv.run()\n",
    "inv_result.summary()"
   ]
  },
  {
   "cell_type": "markdown",
   "id": "de4c3e75",
   "metadata": {},
   "source": [
    "## 4. Plotting inversion results"
   ]
  },
  {
   "cell_type": "code",
   "execution_count": 21,
   "id": "289eee88",
   "metadata": {},
   "outputs": [
    {
     "data": {
      "image/png": "[encoded data removed]",
      "text/plain": [
       "<Figure size 400x400 with 1 Axes>"
      ]
     },
     "metadata": {},
     "output_type": "display_data"
    }
   ],
   "source": [
    "#fig = mt.plot_data(mt.data, Cm = mt.covariance_matrix)\n",
    "#fig = mt.plot_model(mt.good_model, title='True model')\n",
    "fig1 = mt.plot_model(inv_result.model, depths = mt._dpstart, max_depth = -500, title='Smooth inversion');            # inverted model"
   ]
  },
  {
   "cell_type": "code",
   "execution_count": 22,
   "id": "3ba5ac4c",
   "metadata": {},
   "outputs": [
    {
     "name": "stdout",
     "output_type": "stream",
     "text": [
      "nRMSE = 0.935\n"
     ]
    },
    {
     "data": {
      "image/png": "[encoded data removed]",
      "text/plain": [
       "<Figure size 400x400 with 2 Axes>"
      ]
     },
     "metadata": {},
     "output_type": "display_data"
    }
   ],
   "source": [
    "fig = mt.plot_data(mt.data, mt.forward(inv_result.model,depths=starting_depths), Cm = mt.covariance_matrix)\n",
    "nRMSE = np.sqrt(mt.misfit(mt.data, mt.forward(inv_result.model,depths=starting_depths), Cm_inv = mt.inverse_covariance_matrix))\n",
    "print('nRMSE = %.3f'%nRMSE)"
   ]
  },
  {
   "cell_type": "code",
   "execution_count": null,
   "id": "95d51f95",
   "metadata": {},
   "outputs": [],
   "source": []
  }
 ],
 "metadata": {
  "kernelspec": {
   "display_name": "Python 3",
   "language": "python",
   "name": "python3"
  },
  "language_info": {
   "codemirror_mode": {
    "name": "ipython",
    "version": 3
   },
   "file_extension": ".py",
   "mimetype": "text/x-python",
   "name": "python",
   "nbconvert_exporter": "python",
   "pygments_lexer": "ipython3",
   "version": "3.10.8"
  }
 },
 "nbformat": 4,
 "nbformat_minor": 5
}

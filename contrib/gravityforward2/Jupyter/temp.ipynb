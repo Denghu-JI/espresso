{
 "cells": [
  {
   "cell_type": "code",
   "execution_count": 26,
   "id": "f442929b-1e1a-45cd-a0fb-ecfcb9cb4bf3",
   "metadata": {},
   "outputs": [
    {
     "name": "stdout",
     "output_type": "stream",
     "text": [
      "(1728, 2)\n"
     ]
    }
   ],
   "source": [
    "import sys\n",
    "import numpy as np\n",
    "np.set_printoptions(threshold=sys.maxsize)\n",
    "\n",
    "temp=np.load('Testfile.npz')\n",
    "data_x=temp['gx_rec']\n",
    "data_y=temp['gy_rec']\n",
    "data_z=temp['gz_rec']\n",
    "m=temp['m']\n",
    "rec_coords=temp['rec_coords']\n",
    "x_nodes=temp['x_nodes']\n",
    "y_nodes=temp['y_nodes']\n",
    "z_nodes=temp['z_nodes']\n",
    "lmx=temp['lmx']\n",
    "lmy=temp['lmy']\n",
    "lmz=temp['lmz']\n",
    "lrx=temp['lrx']\n",
    "lry=temp['lry']\n"
   ]
  },
  {
   "cell_type": "code",
   "execution_count": 22,
   "id": "a76bf4df-08d1-4911-95e8-f8aa9e384169",
   "metadata": {},
   "outputs": [],
   "source": [
    "\n",
    "def cartesian(arrays, out=None):\n",
    "    \"\"\"\n",
    "    Creates all combinations between input arrays. Used to create coordinates of all grid cells and recording locations.\n",
    "\n",
    "    Arguments:\n",
    "    -----------\n",
    "\n",
    "    :param arrays: Input arrays as a [n,m] array, where n is the number of grid points in one direction and m is the number of directions.\n",
    "    :type arrays: numpy array\n",
    "    :param out: Returns all possible coordinate combinations as a [n^m,m] array.\n",
    "    :type out: numpy array\n",
    "\n",
    "    -----------\n",
    "    \"\"\"\n",
    "    arrays = [np.asarray(x) for x in arrays]\n",
    "    dtype = arrays[0].dtype\n",
    "\n",
    "    n = np.prod([x.size for x in arrays])\n",
    "    if out is None:\n",
    "        out = np.zeros([n, len(arrays)], dtype=dtype)\n",
    "\n",
    "    #m = n / arrays[0].size\n",
    "    m = int(n / arrays[0].size)\n",
    "    out[:,0] = np.repeat(arrays[0], m)\n",
    "    if arrays[1:]:\n",
    "        cartesian(arrays[1:], out=out[0:m, 1:])\n",
    "        for j in range(1, arrays[0].size):\n",
    "        #for j in xrange(1, arrays[0].size):\n",
    "            out[j*m:(j+1)*m, 1:] = out[0:m, 1:]\n",
    "    return out\n"
   ]
  },
  {
   "cell_type": "code",
   "execution_count": 27,
   "id": "49f1d564-dae9-4d6e-ad6b-acd83e993d5d",
   "metadata": {},
   "outputs": [],
   "source": [
    "\n",
    "# Create array of all nodes for each direction\n",
    "x_node_slice=np.linspace(-30,30,13)\n",
    "y_node_slice=np.linspace(-30,30,13)\n",
    "z_node_slice=np.linspace(0,-60,13)\n",
    "z_node_slice=np.flipud(z_node_slice)\n",
    "# Change boundary cells to create larger model:\n",
    "x_node_slice[0]=x_node_slice[0]-995\n",
    "y_node_slice[0]=y_node_slice[0]-995\n",
    "x_node_slice[-1]=x_node_slice[-1]+995\n",
    "y_node_slice[-1]=y_node_slice[-1]+995\n",
    "\n",
    "# Combine the 3 node arrays to get start&finish of each prism edge\n",
    "# 2 rows per array: Start and finish of each edge\n",
    "coords_p1=cartesian((z_node_slice[0:-1],y_node_slice[0:-1],x_node_slice[0:-1]))\n",
    "coords_p2=cartesian((z_node_slice[1:],y_node_slice[1:],x_node_slice[1:]))\n",
    "\n",
    "# Bring output in order for x,y,z\n",
    "temp1=coords_p1[:,0]\n",
    "temp2=coords_p2[:,0]\n",
    "temp1=temp1[:, np.newaxis]\n",
    "temp2=temp2[:, np.newaxis]\n",
    "z_nodes=np.append(temp1, temp2, axis=1)\n",
    "\n",
    "temp1=coords_p1[:,1]\n",
    "temp2=coords_p2[:,1]\n",
    "temp1=temp1[:, np.newaxis]\n",
    "temp2=temp2[:, np.newaxis]\n",
    "y_nodes=np.append(temp1, temp2, axis=1)\n",
    "\n",
    "temp1=coords_p1[:,2]\n",
    "temp2=coords_p2[:,2]\n",
    "temp1=temp1[:, np.newaxis]\n",
    "temp2=temp2[:, np.newaxis]\n",
    "x_nodes2=np.append(temp1, temp2, axis=1)\n",
    "del temp1, temp2\n"
   ]
  },
  {
   "cell_type": "code",
   "execution_count": 30,
   "id": "12d165c1-0ffa-4467-b792-88881651a8b6",
   "metadata": {},
   "outputs": [
    {
     "ename": "TypeError",
     "evalue": "write() argument must be str, not numpy.ndarray",
     "output_type": "error",
     "traceback": [
      "\u001b[0;31m---------------------------------------------------------------------------\u001b[0m",
      "\u001b[0;31mTypeError\u001b[0m                                 Traceback (most recent call last)",
      "\u001b[0;32m/tmp/ipykernel_10001/2965465303.py\u001b[0m in \u001b[0;36m<module>\u001b[0;34m\u001b[0m\n\u001b[1;32m      5\u001b[0m \u001b[0;31m# process Unicode text\u001b[0m\u001b[0;34m\u001b[0m\u001b[0;34m\u001b[0m\u001b[0;34m\u001b[0m\u001b[0m\n\u001b[1;32m      6\u001b[0m \u001b[0;32mwith\u001b[0m \u001b[0mio\u001b[0m\u001b[0;34m.\u001b[0m\u001b[0mopen\u001b[0m\u001b[0;34m(\u001b[0m\u001b[0mfilename\u001b[0m\u001b[0;34m,\u001b[0m\u001b[0;34m'w'\u001b[0m\u001b[0;34m,\u001b[0m\u001b[0mencoding\u001b[0m\u001b[0;34m=\u001b[0m\u001b[0;34m'utf8'\u001b[0m\u001b[0;34m)\u001b[0m \u001b[0;32mas\u001b[0m \u001b[0mf\u001b[0m\u001b[0;34m:\u001b[0m\u001b[0;34m\u001b[0m\u001b[0;34m\u001b[0m\u001b[0m\n\u001b[0;32m----> 7\u001b[0;31m     \u001b[0mf\u001b[0m\u001b[0;34m.\u001b[0m\u001b[0mwrite\u001b[0m\u001b[0;34m(\u001b[0m\u001b[0mm\u001b[0m\u001b[0;34m)\u001b[0m\u001b[0;34m\u001b[0m\u001b[0;34m\u001b[0m\u001b[0m\n\u001b[0m",
      "\u001b[0;31mTypeError\u001b[0m: write() argument must be str, not numpy.ndarray"
     ]
    }
   ],
   "source": [
    "import io\n",
    "filename='gravmodel1.txt'\n",
    "# with io.open(filename,'r',encoding='utf8') as f:\n",
    "#     text = f.read()\n",
    "# process Unicode text\n",
    "with io.open(filename,'w',encoding='utf8') as f:\n",
    "    f.write(m)"
   ]
  },
  {
   "cell_type": "code",
   "execution_count": 51,
   "id": "31fb521c-1dd5-46cf-b8a8-6be84a0285ec",
   "metadata": {},
   "outputs": [],
   "source": [
    "import pkgutil\n",
    "import re"
   ]
  },
  {
   "cell_type": "code",
   "execution_count": 52,
   "id": "ad235ac7-cbc8-4ce6-9266-88de00b17cc7",
   "metadata": {},
   "outputs": [
    {
     "ename": "TypeError",
     "evalue": "get_data() missing 1 required positional argument: 'resource'",
     "output_type": "error",
     "traceback": [
      "\u001b[0;31m---------------------------------------------------------------------------\u001b[0m",
      "\u001b[0;31mTypeError\u001b[0m                                 Traceback (most recent call last)",
      "\u001b[0;32m/tmp/ipykernel_10001/1636232461.py\u001b[0m in \u001b[0;36m<module>\u001b[0;34m\u001b[0m\n\u001b[0;32m----> 1\u001b[0;31m \u001b[0mtmp\u001b[0m \u001b[0;34m=\u001b[0m \u001b[0mpkgutil\u001b[0m\u001b[0;34m.\u001b[0m\u001b[0mget_data\u001b[0m\u001b[0;34m(\u001b[0m\u001b[0;34m\"gravmodel1.txt\"\u001b[0m\u001b[0;34m)\u001b[0m\u001b[0;34m\u001b[0m\u001b[0;34m\u001b[0m\u001b[0m\n\u001b[0m",
      "\u001b[0;31mTypeError\u001b[0m: get_data() missing 1 required positional argument: 'resource'"
     ]
    }
   ],
   "source": [
    "tmp = pkgutil.get_data(\"gravmodel1.txt\")\n"
   ]
  },
  {
   "cell_type": "code",
   "execution_count": 49,
   "id": "c3517491-ae5e-4ba2-ac72-11b7b3ad9bb7",
   "metadata": {},
   "outputs": [],
   "source": [
    "\n",
    "tmp = pkgutil.get_data(\"gravmodel1.txt\")\n",
    "tmp=np.frombuffer(tmp)\n",
    "tmp =np.array(re.findall(\"[-+]?[.]?[\\d]+(?:,\\d\\d\\d)*[\\.]?\\d*(?:[eE][-+]?\\d+)?\", tmp))\n",
    "y = tmp.astype(float)\n",
    "\n",
    "\n"
   ]
  },
  {
   "cell_type": "code",
   "execution_count": 54,
   "id": "7e73e0e0-f55c-4b04-b24c-b1b55ba8514e",
   "metadata": {},
   "outputs": [
    {
     "data": {
      "text/plain": [
       "5184"
      ]
     },
     "execution_count": 54,
     "metadata": {},
     "output_type": "execute_result"
    }
   ],
   "source": [
    "1728*3"
   ]
  },
  {
   "cell_type": "code",
   "execution_count": 59,
   "id": "2c7d9fa7-fc8d-43dc-98d1-391568b42f28",
   "metadata": {},
   "outputs": [
    {
     "data": {
      "text/plain": [
       "1728"
      ]
     },
     "execution_count": 59,
     "metadata": {},
     "output_type": "execute_result"
    }
   ],
   "source": [
    "temp=np.load('Testfile.npz')\n",
    "m=temp[\"m\"]\n",
    "len(m)"
   ]
  },
  {
   "cell_type": "code",
   "execution_count": 2,
   "id": "c5449922-7f88-486f-9a12-c4fe8b8757ee",
   "metadata": {},
   "outputs": [],
   "source": [
    "import numpy as np\n",
    "file=np.load('testfile.npy')"
   ]
  },
  {
   "cell_type": "code",
   "execution_count": 4,
   "id": "dd6ed811-3580-4c53-8276-e0397643234c",
   "metadata": {
    "tags": []
   },
   "outputs": [
    {
     "data": {
      "text/plain": [
       "array([1, 2, 3, 4, 5])"
      ]
     },
     "execution_count": 4,
     "metadata": {},
     "output_type": "execute_result"
    }
   ],
   "source": [
    "file"
   ]
  }
 ],
 "metadata": {
  "kernelspec": {
   "display_name": "Python 3 (ipykernel)",
   "language": "python",
   "name": "python3"
  },
  "language_info": {
   "codemirror_mode": {
    "name": "ipython",
    "version": 3
   },
   "file_extension": ".py",
   "mimetype": "text/x-python",
   "name": "python",
   "nbconvert_exporter": "python",
   "pygments_lexer": "ipython3",
   "version": "3.7.11"
  }
 },
 "nbformat": 4,
 "nbformat_minor": 5
}

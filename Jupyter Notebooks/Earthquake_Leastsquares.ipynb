{
 "cells": [
  {
   "cell_type": "markdown",
   "id": "0bd94910-5597-4c5a-9146-d84a7b38da2e",
   "metadata": {},
   "source": [
    "# Earthquake location using iterative least squares # \n",
    "This problem focuses on iteratively determining a 3-dimensional earthquake location from travel times recorded at stations in the vincinity. The model consists of a three-dimensional earthquake location $x, y, z$ and the origin time $t_0$. The forward calculation consists of $R=\\sqrt(x^2 + y^2 + z^2)$, meaning the problem is non-linear. The inversion is performed using an iterative matrix-based approach. We use a homogeneous crustal Earth model with wave speed, v=5.8 km/s\n",
    "\n",
    "Problem details: \n",
    "- Model: Earthquake location $(z, y, x)$ and origin time $t_0$\n",
    "- Data: Travel time $t$ to recording stations\n",
    "- Forward: Non-linear; $\\int_R \\frac{1}{v(x)} dl$, with $R=\\sqrt(x^2 + y^2 + z^2)$, which becomes $t = \\frac{R}{v}$ with $v(x) = v = const.$ \n",
    "- Solver: Linear least squares using $m_{i+1} = m_i + (G_i^T C_D^{-1} G_i)G_i^T C_D^{-1}(d_i - g(m_i))$\n",
    "- Over-determined (more recordings than unknowns)\n",
    "- 3-dimensional\n",
    "- Iterative: Yes\n",
    "\n",
    "\n",
    "\n",
    "Code details:\n",
    "- Initialise the problem: ``from InversionTestProblems import Earthquake_Leastsquares as eql_fcn``. Makes the subsequent functions available.\n",
    "- ``eql_basics=eql_fcn.Earthquake()`` initialises a ``basics`` class object that contains the recorded data (i.e. travel times to recording locations) and the following changeable parameters. Setting these parameters is optional:\n",
    "    - eql_basics.nit: Specifies number of iteations (single integer)\n",
    "    - eql_basics.n_used: Specifies number of stations used (single integer; between 0 and 10)\n",
    "    - eql_basics.model: Changes the starting location (4x1 float)\n",
    "    - eql_basics.noise: Adds normally distributed noise to the travel time recordings (single float; between 0 and 1); the maximum of the distribution is set to eql_basics.noise*maximum(data)\n",
    "- ``model=eql_fcn.init_routine(eql_basics)`` initialises a starting model, if it has not been set previously.\n",
    "-``synthetic, gradient = eql_fcn.forward(eql_basics, model)`` creates synthetic data based on the model and source and receiver locations. A gradient is not needed here and ''gradient'' is returned as an empty variable. \n",
    "- ``result= eql_fcn.solver(eql_basics, model, synthetic, gradient)`` performs the inversion.\n",
    "- ``eql_fcn.plot_model(eql_basics, result)`` plots the result.\n"
   ]
  },
  {
   "cell_type": "code",
   "execution_count": 1,
   "id": "2910de2d-aa75-42ca-9375-d8de0bb95557",
   "metadata": {},
   "outputs": [
    {
     "name": "stdout",
     "output_type": "stream",
     "text": [
      " Iteration  0 Chisq  2700.705277357193  Current location -5.0000 20.0000 25.0000  0.0000\n",
      " Iteration  1 Chisq  1631.3018304148243  Current location 16.2687 -8.1728 19.9901  6.0567\n",
      " Iteration  2 Chisq  55.985665483299734  Current location  8.8322  1.6700 13.0967  5.1550\n",
      " Iteration  3 Chisq  0.2666437570007426  Current location 10.0891 -0.0806 10.2577  5.0085\n",
      " Iteration  4 Chisq  1.4286067424252347e-05  Current location  9.9994  0.0003 10.0013  5.0002\n",
      " Iteration  5 Chisq  8.571772985099102e-15  Current location 10.0000 -0.0000 10.0000  5.0000\n",
      " Iteration  6 Chisq  7.888609052210117e-29  Current location 10.0000  0.0000 10.0000  5.0000\n",
      " Iteration  7 Chisq  7.888609052210117e-29  Current location 10.0000  0.0000 10.0000  5.0000\n",
      " Iteration  8 Chisq  7.888609052210117e-29  Current location 10.0000  0.0000 10.0000  5.0000\n",
      " Iteration  9 Chisq  1.5777218104420234e-28  Current location 10.0000 -0.0000 10.0000  5.0000\n",
      "\n",
      "Station arrival time residuals for each iteration\n",
      "\n",
      "                0       1       2       3       4       5       6       7       8       9 \n",
      "Station  0  2.5434 -2.8557 -0.3265 -0.0323 -0.0003 -0.0000  0.0000  0.0000  0.0000  0.0000 \n",
      "Station  1 -0.0634 -0.6967 -0.6787 -0.0081 -0.0003 -0.0000  0.0000  0.0000  0.0000  0.0000 \n",
      "Station  2 -0.3005 -1.9254 -0.7989 -0.0223 -0.0004 -0.0000  0.0000  0.0000  0.0000  0.0000 \n",
      "Station  3  4.1489 -2.7149 -0.1940 -0.0347 -0.0001 -0.0000  0.0000  0.0000  0.0000  0.0000 \n",
      "Station  4  6.3464 -3.5152 -0.0049 -0.0438 -0.0001 -0.0000  0.0000  0.0000  0.0000  0.0000 \n",
      "Station  5 -0.0812 -1.1404 -0.7062 -0.0137 -0.0003 -0.0000  0.0000  0.0000  0.0000  0.0000 \n",
      "Station  6  1.3814 -1.7629 -0.4913 -0.0226 -0.0002 -0.0000  0.0000  0.0000  0.0000  0.0000 \n",
      "Station  7  3.7851 -2.4705 -0.2309 -0.0313 -0.0001 -0.0000  0.0000  0.0000 -0.0000  0.0000 \n",
      "Station  8  4.9358 -3.4616 -0.0930 -0.0430 -0.0002 -0.0000  0.0000  0.0000  0.0000  0.0000 \n",
      "Station  9  1.8360 -3.2685 -0.4408 -0.0490 -0.0002 -0.0000  0.0000  0.0000  0.0000  0.0000 \n"
     ]
    },
    {
     "data": {
      "image/png": "[encoded data removed]",
      "text/plain": [
       "<Figure size 864x648 with 1 Axes>"
      ]
     },
     "metadata": {
      "needs_background": "light"
     },
     "output_type": "display_data"
    }
   ],
   "source": [
    "from cofitestsuite.earthquakeleastsquares import eqleastsquares as eql_fcn\n",
    "\n",
    "eql_basics=eql_fcn.basics()\n",
    "eql_basics.nit=10 # Iterations\n",
    "eql_basics.n_used=10 # No of stations used (0-10)\n",
    "eql_basics.model = [-5.0, 20.0, 25.0, 0.0] # Start earthquake location\n",
    "eql_basics.noise=0 # Noise; [0:1] of maximum value of eql_basics.data\n",
    "model=eql_fcn.init_routine(eql_basics)\n",
    "synthetic, gradient = eql_fcn.forward(eql_basics, model)\n",
    "result= eql_fcn.solver(eql_basics, model, synthetic, gradient)\n",
    "eql_fcn.plot_model(eql_basics, result)"
   ]
  },
  {
   "cell_type": "code",
   "execution_count": 5,
   "id": "334e3cc3-1deb-44d5-b0f5-7ff7965e85b3",
   "metadata": {},
   "outputs": [
    {
     "data": {
      "text/plain": [
       "['__class__',\n",
       " '__delattr__',\n",
       " '__dict__',\n",
       " '__dir__',\n",
       " '__doc__',\n",
       " '__eq__',\n",
       " '__format__',\n",
       " '__ge__',\n",
       " '__getattribute__',\n",
       " '__gt__',\n",
       " '__hash__',\n",
       " '__init__',\n",
       " '__init_subclass__',\n",
       " '__le__',\n",
       " '__lt__',\n",
       " '__module__',\n",
       " '__ne__',\n",
       " '__new__',\n",
       " '__reduce__',\n",
       " '__reduce_ex__',\n",
       " '__repr__',\n",
       " '__setattr__',\n",
       " '__sizeof__',\n",
       " '__str__',\n",
       " '__subclasshook__',\n",
       " '__weakref__',\n",
       " 'chisq',\n",
       " 'model_recovered',\n",
       " 'r']"
      ]
     },
     "execution_count": 5,
     "metadata": {},
     "output_type": "execute_result"
    }
   ],
   "source": [
    "dir(result)"
   ]
  }
 ],
 "metadata": {
  "kernelspec": {
   "display_name": "Python 3 (ipykernel)",
   "language": "python",
   "name": "python3"
  },
  "language_info": {
   "codemirror_mode": {
    "name": "ipython",
    "version": 3
   },
   "file_extension": ".py",
   "mimetype": "text/x-python",
   "name": "python",
   "nbconvert_exporter": "python",
   "pygments_lexer": "ipython3",
   "version": "3.8.13"
  }
 },
 "nbformat": 4,
 "nbformat_minor": 5
}

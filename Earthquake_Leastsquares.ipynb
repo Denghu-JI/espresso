{
 "cells": [
  {
   "cell_type": "markdown",
   "id": "0bd94910-5597-4c5a-9146-d84a7b38da2e",
   "metadata": {},
   "source": [
    "# Earthquake location using iterative least squares # \n",
    "This problem focuses on iteratively determining a 3-dimensional earthquake location from travel times recorded at stations in the vincinity. The model consists of a three-dimensional earthquake location $x, y, z$ and the origin time $t_0$. The forward calculation consists of $R=\\sqrt{x^2 + y^2 + z^2}$, meaning the problem is non-linear. The inversion is performed using an iterative matrix-based approach. We use a homogeneous crustal Earth model with wave speed, v=5.8 km/s\n",
    "\n",
    "Problem details: \n",
    "- Model: Earthquake location $(z, y, x)$ and origin time $t_0$\n",
    "- Data: Travel time $t$ to recording stations\n",
    "- Forward: Non-linear; $\\int_R \\frac{1}{v(x)} dl$, with $R=\\sqrt{x^2 + y^2 + z^2}$, which becomes $t = \\frac{R}{v}$ with $v(x) = v = const.$ \n",
    "- Solver: Linear least squares using $m_{i+1} = m_i + (G_i^T C_D^{-1} G_i)G_i^T C_D^{-1}(d_i - g(m_i))$\n",
    "- Over-determined (more recordings than unknowns)\n",
    "- 3-dimensional\n",
    "- Iterative: Yes\n",
    "\n",
    "\n",
    "\n",
    "Code details:\n",
    "- Initialise the problem: ``from InversionTestProblems import Earthquake_Leastsquares as eql_fcn``. Makes the subsequent functions available.\n",
    "- ``eql_basics=eql_fcn.Earthquake()`` initialises a ``basics`` class object that contains the recorded data (i.e. travel times to recording locations) and the following changeable parameters. Setting these parameters is optional:\n",
    "    - eql_basics.nit: Specifies number of iteations (single integer)\n",
    "    - eql_basics.n_used: Specifies number of stations used (single integer; between 0 and 10)\n",
    "    - eql_basics.model: Changes the starting location (4x1 float)\n",
    "    - eql_basics.noise: Adds normally distributed noise to the travel time recordings (single float; between 0 and 1); the maximum of the distribution is set to eql_basics.noise*maximum(data)\n",
    "- ``model=eql_fcn.init_routine(eql_basics)`` initialises a starting model, if it has not been set previously.\n",
    "-``synthetic, gradient = eql_fcn.forward(eql_basics, model)`` creates synthetic data based on the model and source and receiver locations. A gradient is not needed here and ''gradient'' is returned as an empty variable. \n",
    "- ``result= eql_fcn.solver(eql_basics, model, synthetic, gradient)`` performs the inversion.\n",
    "- ``eql_fcn.plot_model(eql_basics, result)`` plots the result.\n"
   ]
  },
  {
   "cell_type": "code",
   "execution_count": null,
   "id": "2910de2d-aa75-42ca-9375-d8de0bb95557",
   "metadata": {},
   "outputs": [],
   "source": [
    "from Earthquake_Leastsquares_data import Earthquake_Leastsquares as eql_fcn\n",
    "eql_basics=eql_fcn.basics()\n",
    "eql_basics.nit=10 # Iterations\n",
    "eql_basics.n_used=10 # No of stations used (0-10)\n",
    "eql_basics.model = [-5.0, 20.0, 25.0, 0.0] # Start earthquake location\n",
    "eql_basics.noise=0 # Noise; [0:1] of maximum value of eql_basics.data\n",
    "model=eql_fcn.init_routine(eql_basics)\n",
    "synthetic, gradient = eql_fcn.forward(eql_basics, model)\n",
    "result= eql_fcn.solver(eql_basics, model, synthetic, gradient)\n",
    "eql_fcn.plot_model(eql_basics, result)"
   ]
  },
  {
   "cell_type": "code",
   "execution_count": 2,
   "id": "8dbaa5a1-dacb-45bd-8428-5039156af142",
   "metadata": {},
   "outputs": [
    {
     "data": {
      "text/plain": [
       "1.5777218104420234e-28"
      ]
     },
     "execution_count": 2,
     "metadata": {},
     "output_type": "execute_result"
    }
   ],
   "source": [
    "result.chisq"
   ]
  }
 ],
 "metadata": {
  "kernelspec": {
   "display_name": "Python 3 (ipykernel)",
   "language": "python",
   "name": "python3"
  },
  "language_info": {
   "codemirror_mode": {
    "name": "ipython",
    "version": 3
   },
   "file_extension": ".py",
   "mimetype": "text/x-python",
   "name": "python",
   "nbconvert_exporter": "python",
   "pygments_lexer": "ipython3",
   "version": "3.7.11"
  }
 },
 "nbformat": 4,
 "nbformat_minor": 5
}

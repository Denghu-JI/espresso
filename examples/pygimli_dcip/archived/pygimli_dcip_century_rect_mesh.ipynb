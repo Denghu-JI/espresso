{
 "cells": [
  {
   "cell_type": "markdown",
   "id": "7ccafe92-8798-40a0-b44d-520b765ab0c5",
   "metadata": {
    "papermill": {
     "duration": 0.005522,
     "end_time": "2022-11-23T00:22:09.810444",
     "exception": false,
     "start_time": "2022-11-23T00:22:09.804922",
     "status": "completed"
    },
    "tags": []
   },
   "source": [
    "# Century DCIP Inversion with a Rectangular Mesh"
   ]
  },
  {
   "cell_type": "markdown",
   "id": "3ce34640-a7b3-4d49-8b2f-e86fe57a8702",
   "metadata": {
    "papermill": {
     "duration": 0.004583,
     "end_time": "2022-11-23T00:22:09.819613",
     "exception": false,
     "start_time": "2022-11-23T00:22:09.815030",
     "status": "completed"
    },
    "tags": []
   },
   "source": [
    "[![Open In Colab](https://img.shields.io/badge/open%20in-Colab-b5e2fa?logo=googlecolab&style=flat-square&color=ffd670)](https://colab.research.google.com/github/inlab-geo/cofi-examples/blob/main/examples/pygimli_dcip/pygimli_dcip_century_rect_mesh.ipynb)"
   ]
  },
  {
   "cell_type": "markdown",
   "id": "94f02324-cc97-4737-9af4-7076d3d85bb4",
   "metadata": {
    "papermill": {
     "duration": 0.004401,
     "end_time": "2022-11-23T00:22:09.828657",
     "exception": false,
     "start_time": "2022-11-23T00:22:09.824256",
     "status": "completed"
    },
    "tags": []
   },
   "source": [
    "<!-- Again, please don't touch the markdown cell above. We'll generate badge \n",
    "     automatically from the above cell. -->\n",
    "\n",
    "<!-- This cell describes things related to environment setup, so please add more text \n",
    "     if something special (not listed below) is needed to run this notebook -->\n",
    "\n",
    "> If you are running this notebook locally, make sure you've followed [steps here](https://github.com/inlab-geo/cofi-examples#run-the-examples-with-cofi-locally)\n",
    "to set up the environment. (This [environment.yml](https://github.com/inlab-geo/cofi-examples/blob/main/envs/environment.yml) file\n",
    "specifies a list of packages required to run the notebooks)\n",
    "\n",
    "Using the DCIP (Direct Current, Induced Polarization) solver implemented provided by [PyGIMLi](https://www.pygimli.org/), \n",
    "we use different `cofi` solvers to solve problem with a real dataset.\n",
    "\n",
    "Note: This notebook is adapted from a SimPEG example authored by Lindsey Heagy and presented at Transform 2020. [Original Materials](https://curvenote.com/@simpeg/transform-2020-simpeg-tutorial/!6DDumb03Le6D8N8xuJNs)\n",
    "\n",
    "For details of DCIP inversion in complex numbers, see the theory part of [the synthetic example notebook](../pygimli_dcip.ipynb)."
   ]
  },
  {
   "cell_type": "markdown",
   "id": "92bdfda7-cbfd-4b52-a0f0-654fdac94761",
   "metadata": {
    "papermill": {
     "duration": 0.004179,
     "end_time": "2022-11-23T00:22:09.836907",
     "exception": false,
     "start_time": "2022-11-23T00:22:09.832728",
     "status": "completed"
    },
    "tags": []
   },
   "source": [
    "## 1. Set up environment\n",
    "\n",
    "We'll do the following:\n",
    "1. Install PyGIMLi (if on CoLab)\n",
    "2. Download processed dataset (if on CoLab)\n",
    "3. Import modules"
   ]
  },
  {
   "cell_type": "code",
   "execution_count": 1,
   "id": "9d453245-5e53-4920-b38a-e4e80f00d06b",
   "metadata": {
    "execution": {
     "iopub.execute_input": "2022-11-23T00:22:09.874633Z",
     "iopub.status.busy": "2022-11-23T00:22:09.874399Z",
     "iopub.status.idle": "2022-11-23T00:22:09.877073Z",
     "shell.execute_reply": "2022-11-23T00:22:09.876728Z"
    },
    "papermill": {
     "duration": 0.036804,
     "end_time": "2022-11-23T00:22:09.877898",
     "exception": false,
     "start_time": "2022-11-23T00:22:09.841094",
     "status": "completed"
    },
    "tags": []
   },
   "outputs": [],
   "source": [
    "# -------------------------------------------------------- #\n",
    "#                                                          #\n",
    "#     Uncomment below to set up environment on \"colab\"     #\n",
    "#                                                          #\n",
    "# -------------------------------------------------------- #\n",
    "\n",
    "# !pip install -U cofi\n",
    "\n",
    "# !pip install -q condacolab\n",
    "# import condacolab\n",
    "# condacolab.install()\n",
    "# !mamba install -c gimli pygimli=1.3"
   ]
  },
  {
   "cell_type": "code",
   "execution_count": 2,
   "id": "96645e3b-16fd-45d3-ad92-2dd89b6b9d26",
   "metadata": {
    "execution": {
     "iopub.execute_input": "2022-11-23T00:22:09.887454Z",
     "iopub.status.busy": "2022-11-23T00:22:09.887227Z",
     "iopub.status.idle": "2022-11-23T00:22:09.889218Z",
     "shell.execute_reply": "2022-11-23T00:22:09.888860Z"
    },
    "papermill": {
     "duration": 0.007962,
     "end_time": "2022-11-23T00:22:09.890087",
     "exception": false,
     "start_time": "2022-11-23T00:22:09.882125",
     "status": "completed"
    },
    "tags": []
   },
   "outputs": [],
   "source": [
    "# -------------------------------------------------------- #\n",
    "#                                                          #\n",
    "#     Uncomment below to set up environment on \"colab\"     #\n",
    "#                                                          #\n",
    "# -------------------------------------------------------- #\n",
    "\n",
    "# !git clone https://github.com/inlab-geo/cofi-examples.git\n",
    "# %cd examples/pygimli_dcip/"
   ]
  },
  {
   "cell_type": "markdown",
   "id": "9f35b3dc-ea4e-4b1a-b7a8-165adbf4193b",
   "metadata": {
    "papermill": {
     "duration": 0.004704,
     "end_time": "2022-11-23T00:22:09.899475",
     "exception": false,
     "start_time": "2022-11-23T00:22:09.894771",
     "status": "completed"
    },
    "tags": []
   },
   "source": [
    "We will need the following packages:\n",
    "\n",
    "- `os` to list and load dataset\n",
    "- `numpy` for matrices and matrix-related functions\n",
    "- `matplotlib` for plotting\n",
    "- `pygimli` for forward modelling of the problem\n",
    "- `cofi` for accessing different inference solvers"
   ]
  },
  {
   "cell_type": "code",
   "execution_count": 3,
   "id": "2b5bd492-b579-46ee-a88d-bacb7e0809b1",
   "metadata": {
    "execution": {
     "iopub.execute_input": "2022-11-23T00:22:09.915302Z",
     "iopub.status.busy": "2022-11-23T00:22:09.915101Z",
     "iopub.status.idle": "2022-11-23T00:22:10.579987Z",
     "shell.execute_reply": "2022-11-23T00:22:10.579552Z"
    },
    "papermill": {
     "duration": 0.670912,
     "end_time": "2022-11-23T00:22:10.581384",
     "exception": false,
     "start_time": "2022-11-23T00:22:09.910472",
     "status": "completed"
    },
    "tags": []
   },
   "outputs": [],
   "source": [
    "import os\n",
    "import numpy as np\n",
    "import matplotlib.pyplot as plt\n",
    "import matplotlib as mpl\n",
    "import pygimli\n",
    "import cofi"
   ]
  },
  {
   "cell_type": "markdown",
   "id": "1e7d4d42-6e69-4403-a353-7e319e81cc2f",
   "metadata": {
    "papermill": {
     "duration": 0.005163,
     "end_time": "2022-11-23T00:22:10.590963",
     "exception": false,
     "start_time": "2022-11-23T00:22:10.585800",
     "status": "completed"
    },
    "tags": []
   },
   "source": [
    "## 2. Load the data\n",
    "\n",
    "We will need to download the preprocessed dataset first. This notebook [century_data_preprocessing.ipynb](century_data_preprocessing.ipynb) contains the code for data preprocessing."
   ]
  },
  {
   "cell_type": "code",
   "execution_count": 4,
   "id": "5e2b932d-7675-4524-9b4e-f05698baac26",
   "metadata": {
    "execution": {
     "iopub.execute_input": "2022-11-23T00:22:10.601251Z",
     "iopub.status.busy": "2022-11-23T00:22:10.600941Z",
     "iopub.status.idle": "2022-11-23T00:22:10.605444Z",
     "shell.execute_reply": "2022-11-23T00:22:10.605041Z"
    },
    "papermill": {
     "duration": 0.010694,
     "end_time": "2022-11-23T00:22:10.606388",
     "exception": false,
     "start_time": "2022-11-23T00:22:10.595694",
     "status": "completed"
    },
    "tags": []
   },
   "outputs": [],
   "source": [
    "dcip_data = np.loadtxt(\"century_dcip_data.txt\")"
   ]
  },
  {
   "cell_type": "markdown",
   "id": "1f1bc091-69f3-4d98-a867-bd7f3534ad7a",
   "metadata": {},
   "source": [
    "### Frequency domain vs Time domain measurements of chargeability\n",
    "\n",
    "References:\n",
    "- https://gpg.geosci.xyz/content/induced_polarization/induced_polarization_data.html\n",
    "- Martin, T., Günther, T., Orozco, A. F., & Dahlin, T. (2020). Evaluation of spectral induced polarization field measurements in time and frequency domain. Journal of Applied Geophysics, 180. https://doi.org/10.1016/j.jappgeo.2020.104141\n",
    "- Mutton, A. J. (2000). The application of geophysics during evaluation of the Century zinc deposit. Geophysics, 65(6), 1946–1960. https://doi.org/10.1190/1.1444878"
   ]
  },
  {
   "cell_type": "code",
   "execution_count": 5,
   "id": "a7f5ac47-a1bc-400e-9b5f-1aaf948b233f",
   "metadata": {
    "execution": {
     "iopub.execute_input": "2022-11-23T00:22:10.619450Z",
     "iopub.status.busy": "2022-11-23T00:22:10.619147Z",
     "iopub.status.idle": "2022-11-23T00:22:10.627678Z",
     "shell.execute_reply": "2022-11-23T00:22:10.627302Z"
    },
    "papermill": {
     "duration": 0.014498,
     "end_time": "2022-11-23T00:22:10.628583",
     "exception": false,
     "start_time": "2022-11-23T00:22:10.614085",
     "status": "completed"
    },
    "tags": []
   },
   "outputs": [
    {
     "data": {
      "text/plain": [
       "(26000.0, 29200.0, 100.0, 33)"
      ]
     },
     "execution_count": 5,
     "metadata": {},
     "output_type": "execute_result"
    }
   ],
   "source": [
    "a_locs = dcip_data[:,0]\n",
    "b_locs = dcip_data[:,1]\n",
    "m_locs = dcip_data[:,2]\n",
    "n_locs = dcip_data[:,3]\n",
    "dc_obs = dcip_data[:,4]\n",
    "dc_err = dcip_data[:,5]\n",
    "ip_obs = dcip_data[:,6]*0.7   # https://gpg.geosci.xyz/content/induced_polarization/induced_polarization_data.html\n",
    "ip_err = dcip_data[:,7]*0.7\n",
    "geo_factors = dcip_data[:,8]\n",
    "\n",
    "location_start = np.min(a_locs)\n",
    "location_stop = np.max(n_locs)\n",
    "location_interval = m_locs[1] - m_locs[0]\n",
    "location_num = int((location_stop - location_start) / location_interval + 1)\n",
    "\n",
    "location_start, location_stop, location_interval, location_num"
   ]
  },
  {
   "cell_type": "code",
   "execution_count": 6,
   "id": "5b004858-9a4f-42c8-859f-a0cc6ea9b055",
   "metadata": {
    "execution": {
     "iopub.execute_input": "2022-11-23T00:22:10.637850Z",
     "iopub.status.busy": "2022-11-23T00:22:10.637646Z",
     "iopub.status.idle": "2022-11-23T00:22:10.641752Z",
     "shell.execute_reply": "2022-11-23T00:22:10.641363Z"
    },
    "papermill": {
     "duration": 0.009935,
     "end_time": "2022-11-23T00:22:10.642663",
     "exception": false,
     "start_time": "2022-11-23T00:22:10.632728",
     "status": "completed"
    },
    "tags": []
   },
   "outputs": [],
   "source": [
    "def load_leapfrog_geologic_section(filename=\"century_geologic_section.csv\"):\n",
    "    \"\"\"\n",
    "    Load the geologic cross section. \n",
    "    \"\"\"\n",
    "    fid = open(filename, 'r')\n",
    "    lines = fid.readlines()\n",
    "    data = []\n",
    "    data_tmp = []\n",
    "    for line in lines[2:]:\n",
    "        line_data = (line.split(',')[:3])\n",
    "        if 'End' in line:\n",
    "            data.append(np.vstack(data_tmp)[:,[0, 2]])\n",
    "            data_tmp = []\n",
    "        else:\n",
    "            data_tmp.append(np.array(line_data, dtype=float))\n",
    "    return data\n",
    "\n",
    "geologic_section = load_leapfrog_geologic_section()"
   ]
  },
  {
   "cell_type": "markdown",
   "id": "10b3d4d1-ba13-4aae-880a-18ec7b8163ca",
   "metadata": {
    "papermill": {
     "duration": 0.004907,
     "end_time": "2022-11-23T00:22:10.652421",
     "exception": false,
     "start_time": "2022-11-23T00:22:10.647514",
     "status": "completed"
    },
    "tags": []
   },
   "source": [
    "## 3. Utility wrappers to PyGIMLi functions\n",
    "\n",
    "Below we define a set of utility functions that help define the problem, generating data and making plots. Feel free to skip reading the details of these utility functions and come back later if you want."
   ]
  },
  {
   "cell_type": "markdown",
   "id": "c748810a-13df-46bb-a2bd-9df07e7c2813",
   "metadata": {
    "papermill": {
     "duration": 0.004423,
     "end_time": "2022-11-23T00:22:10.665634",
     "exception": false,
     "start_time": "2022-11-23T00:22:10.661211",
     "status": "completed"
    },
    "tags": []
   },
   "source": [
    "### 3.1. Helper functions for complex numbers"
   ]
  },
  {
   "cell_type": "code",
   "execution_count": 7,
   "id": "9f89794a-fd55-4fd2-8e0e-1610c167495f",
   "metadata": {
    "execution": {
     "iopub.execute_input": "2022-11-23T00:22:10.675212Z",
     "iopub.status.busy": "2022-11-23T00:22:10.674967Z",
     "iopub.status.idle": "2022-11-23T00:22:10.678061Z",
     "shell.execute_reply": "2022-11-23T00:22:10.677672Z"
    },
    "papermill": {
     "duration": 0.008955,
     "end_time": "2022-11-23T00:22:10.678975",
     "exception": false,
     "start_time": "2022-11-23T00:22:10.670020",
     "status": "completed"
    },
    "tags": []
   },
   "outputs": [],
   "source": [
    "def rho_phi_to_complex(rho, phi):      # rho * e^(phi * i)\n",
    "    return pygimli.utils.toComplex(rho, phi)\n",
    "\n",
    "def rho_phi_from_complex(complx):      # |complx|, arctan(complx.imag, complx.real)\n",
    "    return np.abs(complx), np.arctan2(complx.imag, complx.real)\n",
    "\n",
    "def complex_to_real(complx):           # complx vector of size n -> size 2n\n",
    "    return pygimli.utils.squeezeComplex(complx)\n",
    "\n",
    "def complex_from_real(real):           # real vector of size n -> size n/2\n",
    "    return pygimli.utils.toComplex(real)"
   ]
  },
  {
   "cell_type": "markdown",
   "id": "e894342c-4541-4cb2-b903-839faf662d54",
   "metadata": {
    "papermill": {
     "duration": 0.004936,
     "end_time": "2022-11-23T00:22:10.688807",
     "exception": false,
     "start_time": "2022-11-23T00:22:10.683871",
     "status": "completed"
    },
    "tags": []
   },
   "source": [
    "### 3.2. Helper functions for PyGIMLi modelling"
   ]
  },
  {
   "cell_type": "code",
   "execution_count": 8,
   "id": "01cb509e-e349-47f3-8442-851984314ed6",
   "metadata": {
    "execution": {
     "iopub.execute_input": "2022-11-23T00:22:10.698980Z",
     "iopub.status.busy": "2022-11-23T00:22:10.698769Z",
     "iopub.status.idle": "2022-11-23T00:22:10.709345Z",
     "shell.execute_reply": "2022-11-23T00:22:10.708986Z"
    },
    "papermill": {
     "duration": 0.016753,
     "end_time": "2022-11-23T00:22:10.710149",
     "exception": false,
     "start_time": "2022-11-23T00:22:10.693396",
     "status": "completed"
    },
    "tags": []
   },
   "outputs": [],
   "source": [
    "# inversion mesh bound\n",
    "x_inv_start = location_start - 1000\n",
    "x_inv_stop = location_stop + 1000\n",
    "y_inv_start = -400\n",
    "y_inv_stop = 0\n",
    "\n",
    "# PyGIMLi DataContainerERT\n",
    "def pygimli_data(a_locs, b_locs, m_locs, n_locs, dc_obs, dc_err, ip_obs, ip_err):\n",
    "    # --- create empty data container object ---\n",
    "    pg_data = pygimli.DataContainerERT()\n",
    "    # create sensor locations\n",
    "    for sensor in np.linspace(location_start, location_stop, location_num):\n",
    "        pg_data.createSensor((sensor, 0.0, 0.0))\n",
    "    # --- add indices for data points ---\n",
    "    locs_sources = np.vstack((a_locs, b_locs)).T\n",
    "    locs_receivers = np.vstack((m_locs, n_locs)).T\n",
    "    for i in range(len(locs_sources)):\n",
    "        src = locs_sources[i]\n",
    "        src_idx = (src - location_start) / location_interval\n",
    "        rec = locs_receivers[i]\n",
    "        rec_idx = (rec - location_start) / location_interval\n",
    "        pg_data.createFourPointData(i, src_idx[0], src_idx[1], rec_idx[0], rec_idx[1])\n",
    "    # --- fill in the observed data and error estimation ---\n",
    "    pg_data[\"rhoa\"] = dc_obs\n",
    "    pg_data[\"err\"] = dc_err\n",
    "    pg_data[\"phia\"] = -ip_obs/1000.  # PyGIMLi accepts radians (instead of milliradians) for forward modelling\n",
    "    pg_data[\"iperr\"] = ip_err/1000.\n",
    "    # --- create geometric factor k ---\n",
    "    pg_data[\"k\"] = pygimli.physics.ert.createGeometricFactors(pg_data, numerical=True)\n",
    "    # --- generate data vals and diag vals of covariance inv matrix in log complex space ---\n",
    "    data_complex = rho_phi_to_complex(pg_data[\"rhoa\"].array(), pg_data[\"phia\"].array())\n",
    "    data_log_complex = np.log(data_complex)\n",
    "    dc_err_log = np.log(pg_data[\"err\"])\n",
    "    ip_err_log = np.log(pg_data[\"iperr\"])\n",
    "    m_err = rho_phi_to_complex(1/dc_err_log, 1/ip_err_log)\n",
    "    Wd = np.diag(m_err)\n",
    "    Cd_inv = Wd.conj().dot(Wd)\n",
    "    return pg_data, data_log_complex, Cd_inv\n",
    "\n",
    "# PyGIMLi ert.ERTManager\n",
    "def ert_manager(pg_data, verbose=False):\n",
    "    return pygimli.physics.ert.ERTManager(pg_data, verbose=verbose, useBert=True)\n",
    "\n",
    "# mesh used for inversion\n",
    "def inversion_mesh(ert_mgr):\n",
    "    inv_mesh = ert_mgr.createMesh(ert_mgr.data)\n",
    "    inv_mesh = inv_mesh.createH2()\n",
    "    print(\"model size\", ert_mgr.paraDomain.cellCount())\n",
    "    ert_mgr.setMesh(inv_mesh)\n",
    "    return inv_mesh\n",
    "\n",
    "# mesh used for the original paper\n",
    "def inversion_mesh_ubc(ert_mgr):\n",
    "    mesh_ubc = pygimli.meshtools.readMeshIO(\"century_mesh.vtk\")\n",
    "    print(\"model size\", mesh_ubc.cellCount())\n",
    "    ert_mgr.setMesh(mesh_ubc)\n",
    "    return mesh_ubc\n",
    "\n",
    "# PyGIMLi ert.ERTModelling\n",
    "def ert_forward_operator(ert_mgr, pg_data, inv_mesh):\n",
    "    forward_oprt = ert_mgr.fop\n",
    "    forward_oprt.setComplex(True)\n",
    "    forward_oprt.setData(pg_data)\n",
    "    forward_oprt.setMesh(inv_mesh, ignoreRegionManager=True)\n",
    "    return forward_oprt\n",
    "\n",
    "# regularization matrix\n",
    "def reg_matrix(forward_oprt, inv_mesh):\n",
    "    region_manager = forward_oprt.regionManager()\n",
    "    region_manager.setConstraintType(2)\n",
    "    region_manager.setMesh(inv_mesh)\n",
    "    Wm = pygimli.matrix.SparseMapMatrix()\n",
    "    region_manager.fillConstraints(Wm)\n",
    "    Wm = pygimli.utils.sparseMatrix2coo(Wm)\n",
    "    return Wm\n",
    "\n",
    "def starting_model(data, inv_mesh, rho_val=None, phi_val=None):\n",
    "    rho_start = np.median(data[\"rhoa\"]) if rho_val is None else rho_val\n",
    "    phi_start = np.median(data[\"phia\"]) if phi_val is None else phi_val\n",
    "    start_model_val = rho_phi_to_complex(rho_start, phi_start)\n",
    "    start_model_complex = np.ones(inv_mesh.cellCount()) * start_model_val\n",
    "    start_model_log_complex = np.log(start_model_complex)\n",
    "    start_model_log_real = complex_to_real(start_model_log_complex)\n",
    "    return start_model_complex, start_model_log_complex, start_model_log_real\n",
    "\n",
    "def reference_dc_model():\n",
    "    return np.loadtxt(\"century_dc_model.txt\")\n",
    "\n",
    "def reference_ip_model():\n",
    "    return -np.loadtxt(\"century_ip_model.txt\") * 0.7 / 1000\n",
    "\n",
    "# initialise model to have same resistivities as the original inversion result\n",
    "def starting_model_ref(ert_mgr):\n",
    "    dc_model_ref = np.loadtxt(\"century_dc_model.txt\")\n",
    "    assert ert_mgr.paraDomain.cellCount() == len(dc_model_ref), \\\n",
    "        \"mesh cell count has to match century reference model length\"\n",
    "    return starting_model(ert_mgr, rhoa_val=dc_model_ref)"
   ]
  },
  {
   "cell_type": "markdown",
   "id": "d4ff35ea-699c-4b3f-b1ff-61048884d2a6",
   "metadata": {
    "papermill": {
     "duration": 0.004945,
     "end_time": "2022-11-23T00:22:10.719290",
     "exception": false,
     "start_time": "2022-11-23T00:22:10.714345",
     "status": "completed"
    },
    "tags": []
   },
   "source": [
    "### 3.3. Plotting utilities"
   ]
  },
  {
   "cell_type": "code",
   "execution_count": 9,
   "id": "b0de2439-fbfa-4e5a-8723-e9805d2adf0d",
   "metadata": {
    "execution": {
     "iopub.execute_input": "2022-11-23T00:22:10.729121Z",
     "iopub.status.busy": "2022-11-23T00:22:10.728930Z",
     "iopub.status.idle": "2022-11-23T00:22:10.738517Z",
     "shell.execute_reply": "2022-11-23T00:22:10.738158Z"
    },
    "papermill": {
     "duration": 0.015528,
     "end_time": "2022-11-23T00:22:10.739302",
     "exception": false,
     "start_time": "2022-11-23T00:22:10.723774",
     "status": "completed"
    },
    "tags": []
   },
   "outputs": [],
   "source": [
    "def plot_geologic_section(geologic_section, ax):\n",
    "    for data in geologic_section:\n",
    "        ax.plot(data[:,0], data[:,1], 'k--', alpha=0.5)\n",
    "\n",
    "def plot_model(mesh, model_complex, title):\n",
    "    rho, phi = rho_phi_from_complex(model_complex)\n",
    "    fig, axes = plt.subplots(2,1,figsize=(12,5))\n",
    "    pygimli.show(mesh, data=rho, label=r\"$\\Omega m$\", ax=axes[0])\n",
    "    axes[0].set_xlim(x_inv_start, x_inv_stop)\n",
    "    axes[0].set_ylim(y_inv_start, y_inv_stop)\n",
    "    axes[0].set_title(\"Resistivity\")\n",
    "    pygimli.show(mesh, data=phi * 1000, label=r\"mrad\", ax=axes[1])\n",
    "    axes[1].set_xlim(x_inv_start, x_inv_stop)\n",
    "    axes[1].set_ylim(y_inv_start, y_inv_stop)\n",
    "    axes[1].set_title(\"Chargeability\")\n",
    "    if title != \"Starting model\":\n",
    "        plot_geologic_section(geologic_section, axes[0])\n",
    "        plot_geologic_section(geologic_section, axes[1])\n",
    "    fig.suptitle(title)\n",
    "\n",
    "def plot_data(pg_data, data_complex, title):\n",
    "    rho, phi = rho_phi_from_complex(data_complex)\n",
    "    fig, axes = plt.subplots(1,2,figsize=(10,4))\n",
    "    pygimli.physics.ert.showERTData(pg_data, vals=rho, label=r\"$\\Omega$m\", ax=axes[0])\n",
    "    axes[0].set_title(\"Apparent Resistivity\")\n",
    "    pygimli.physics.ert.showERTData(pg_data, vals=phi*1000, label=r\"mrad\", ax=axes[1])\n",
    "    axes[1].set_title(\"Apparent Chargeability\")\n",
    "    fig.suptitle(title)\n",
    "    \n",
    "def plot_mesh(mesh, title=\"Mesh used for inversion\"):\n",
    "    _, ax = plt.subplots(1, 1)\n",
    "    pygimli.show(mesh, showMesh=True, markers=True, colorBar=False, ax=ax)\n",
    "    ax.set_title(title)\n",
    "    ax.set_xlabel(\"Northing (m)\")\n",
    "    ax.set_ylabel(\"Elevation (m)\")\n",
    "\n",
    "def plot_comparison(mesh1, model1, title1, mesh2, model2, title2, rho_min, rho_max, phi_min, phi_max):\n",
    "    rho1, phi1 = rho_phi_from_complex(model1)\n",
    "    rho2, phi2 = rho_phi_from_complex(model2)\n",
    "    fig, axes = plt.subplots(4, 1, figsize=(10,12))\n",
    "    pygimli.show(mesh1, data=rho1, label=r\"$\\Omega m$\", ax=axes[0])\n",
    "    axes[0].set_xlim(x_inv_start, x_inv_stop)\n",
    "    axes[0].set_ylim(y_inv_start, y_inv_stop)\n",
    "    axes[0].set_title(f\"{title1} - Resistivity\")\n",
    "    plot_geologic_section(geologic_section, axes[0])\n",
    "    pygimli.show(mesh2, data=rho2, label=r\"$\\Omega m$\", ax=axes[1], cMin=rho_min, cMax=rho_max)\n",
    "    axes[1].set_xlim(x_inv_start, x_inv_stop)\n",
    "    axes[1].set_ylim(y_inv_start, y_inv_stop)\n",
    "    axes[1].set_title(f\"{title2} - Resistivity\")\n",
    "    plot_geologic_section(geologic_section, axes[1])\n",
    "    pygimli.show(mesh1, data=phi1 * 1000, label=r\"mrad\", ax=axes[2])\n",
    "    axes[2].set_xlim(x_inv_start, x_inv_stop)\n",
    "    axes[2].set_ylim(y_inv_start, y_inv_stop)\n",
    "    axes[2].set_title(f\"{title1} - Chargeability\")\n",
    "    plot_geologic_section(geologic_section, axes[2])\n",
    "    pygimli.show(mesh2, data=phi2 * 1000, label=r\"mrad\", ax=axes[3], cMin=phi_min*1000, cMax=phi_max*1000)\n",
    "    axes[3].set_xlim(x_inv_start, x_inv_stop)\n",
    "    axes[3].set_ylim(y_inv_start, y_inv_stop)\n",
    "    axes[3].set_title(f\"{title2} - Chargeability\")\n",
    "    plot_geologic_section(geologic_section, axes[3])"
   ]
  },
  {
   "cell_type": "markdown",
   "id": "3c850418-56d0-42e5-8335-0825f6fdc96e",
   "metadata": {
    "papermill": {
     "duration": 0.004973,
     "end_time": "2022-11-23T00:22:10.748493",
     "exception": false,
     "start_time": "2022-11-23T00:22:10.743520",
     "status": "completed"
    },
    "tags": []
   },
   "source": [
    "## 4. PyGIMLi problem setup\n",
    "\n",
    "### 4.1. Data container"
   ]
  },
  {
   "cell_type": "code",
   "execution_count": 10,
   "id": "39e60c76-c5f7-4562-984f-54b475077f4f",
   "metadata": {
    "execution": {
     "iopub.execute_input": "2022-11-23T00:22:10.758176Z",
     "iopub.status.busy": "2022-11-23T00:22:10.757993Z",
     "iopub.status.idle": "2022-11-23T00:22:12.652440Z",
     "shell.execute_reply": "2022-11-23T00:22:12.651831Z"
    },
    "papermill": {
     "duration": 1.901045,
     "end_time": "2022-11-23T00:22:12.654033",
     "exception": false,
     "start_time": "2022-11-23T00:22:10.752988",
     "status": "completed"
    },
    "tags": []
   },
   "outputs": [
    {
     "name": "stderr",
     "output_type": "stream",
     "text": [
      "23/11/22 - 11:22:12 - pyGIMLi - \u001b[0;32;49mINFO\u001b[0m - Save RVector binary\n",
      "23/11/22 - 11:22:12 - pyGIMLi - \u001b[0;32;49mINFO\u001b[0m - Cache stored: /home/jiawen/.cache/pygimli/1663588347901952819\n"
     ]
    },
    {
     "name": "stdout",
     "output_type": "stream",
     "text": [
      "ModellingBase::setMesh() copying new mesh ... Found datafile: 33 electrodes\n",
      "Found: 33 node-electrodes\n",
      "rMin = 50, rMax = 6400\n",
      "NGauLeg + NGauLag for inverse Fouriertransformation: 12 + 4\n",
      "Found non-Neumann domain\n",
      "0.005 s\n",
      "FOP updating mesh dependencies ... 0 s\n",
      "Assembling system matrix ... CHOLMOD sparse:  A:  5657-by-5657, nz 63545, upper.  OK\n",
      "CHOLMOD analyzed preordering: 2\n",
      "CHOLMOD factor:  L:  5657-by-5657  supernodal, LL'.  nz 185400  OK\n",
      "Factorizing (Cholmod) system matrix ... Assembling system matrix ... CHOLMOD sparse:  A:  5657-by-5657, nz 63545, upper.  OK\n",
      "CHOLMOD analyzed preordering: 2\n",
      "CHOLMOD factor:  L:  5657-by-5657  supernodal, LL'.  nz 185400  OK\n",
      "Factorizing (Cholmod) system matrix ... Assembling system matrix ... CHOLMOD sparse:  A:  5657-by-5657, nz 63545, upper.  OK\n",
      "CHOLMOD analyzed preordering: 2\n",
      "CHOLMOD factor:  L:  5657-by-5657  supernodal, LL'.  nz 185400  OK\n",
      "Factorizing (Cholmod) system matrix ... Assembling system matrix ... CHOLMOD sparse:  A:  5657-by-5657, nz 63545, upper.  OK\n",
      "CHOLMOD analyzed preordering: 2\n",
      "CHOLMOD factor:  L:  5657-by-5657  supernodal, LL'.  nz 185400  OK\n",
      "Factorizing (Cholmod) system matrix ... Assembling system matrix ... CHOLMOD sparse:  A:  5657-by-5657, nz 63545, upper.  OK\n",
      "CHOLMOD analyzed preordering: 2\n",
      "CHOLMOD factor:  L:  5657-by-5657  supernodal, LL'.  nz 185400  OK\n",
      "Factorizing (Cholmod) system matrix ... Assembling system matrix ... CHOLMOD sparse:  A:  5657-by-5657, nz 63545, upper.  OK\n",
      "CHOLMOD analyzed preordering: 2\n",
      "CHOLMOD factor:  L:  5657-by-5657  supernodal, LL'.  nz 185400  OK\n",
      "Factorizing (Cholmod) system matrix ... Assembling system matrix ... CHOLMOD sparse:  A:  5657-by-5657, nz 63545, upper.  OK\n",
      "CHOLMOD analyzed preordering: 2\n",
      "CHOLMOD factor:  L:  5657-by-5657  supernodal, LL'.  nz 185400  OK\n",
      "Factorizing (Cholmod) system matrix ... Assembling system matrix ... CHOLMOD sparse:  A:  5657-by-5657, nz 63545, upper.  OK\n",
      "CHOLMOD analyzed preordering: 2\n",
      "CHOLMOD factor:  L:  5657-by-5657  supernodal, LL'.  nz 185400  OK\n",
      "Factorizing (Cholmod) system matrix ... Assembling system matrix ... CHOLMOD sparse:  A:  5657-by-5657, nz 63545, upper.  OK\n",
      "CHOLMOD analyzed preordering: 2\n",
      "CHOLMOD factor:  L:  5657-by-5657  supernodal, LL'.  nz 185400  OK\n",
      "Factorizing (Cholmod) system matrix ... Assembling system matrix ... CHOLMOD sparse:  A:  5657-by-5657, nz 63545, upper.  OK\n",
      "CHOLMOD analyzed preordering: 2\n",
      "CHOLMOD factor:  L:  5657-by-5657  supernodal, LL'.  nz 185400  OK\n",
      "Factorizing (Cholmod) system matrix ... Assembling system matrix ... CHOLMOD sparse:  A:  5657-by-5657, nz 63545, upper.  OK\n",
      "CHOLMOD analyzed preordering: 2\n",
      "CHOLMOD factor:  L:  5657-by-5657  supernodal, LL'.  nz 185400  OK\n",
      "Factorizing (Cholmod) system matrix ... Assembling system matrix ... CHOLMOD sparse:  A:  5657-by-5657, nz 63545, upper.  OK\n",
      "CHOLMOD analyzed preordering: 2\n",
      "CHOLMOD factor:  L:  5657-by-5657  supernodal, LL'.  nz 185400  OK\n",
      "Factorizing (Cholmod) system matrix ... Assembling system matrix ... CHOLMOD sparse:  A:  5657-by-5657, nz 63545, upper.  OK\n",
      "CHOLMOD analyzed preordering: 2\n",
      "CHOLMOD factor:  L:  5657-by-5657  supernodal, LL'.  nz 185400  OK\n",
      "Factorizing (Cholmod) system matrix ... Assembling system matrix ... CHOLMOD sparse:  A:  5657-by-5657, nz 63545, upper.  OK\n",
      "CHOLMOD analyzed preordering: 2\n",
      "CHOLMOD factor:  L:  5657-by-5657  supernodal, LL'.  nz 185400  OK\n",
      "Factorizing (Cholmod) system matrix ... Assembling system matrix ... CHOLMOD sparse:  A:  5657-by-5657, nz 63545, upper.  OK\n",
      "CHOLMOD analyzed preordering: 2\n",
      "CHOLMOD factor:  L:  5657-by-5657  supernodal, LL'.  nz 185400  OK\n",
      "Factorizing (Cholmod) system matrix ... Assembling system matrix ... CHOLMOD sparse:  A:  5657-by-5657, nz 63545, upper.  OK\n",
      "CHOLMOD analyzed preordering: 2\n",
      "CHOLMOD factor:  L:  5657-by-5657  supernodal, LL'.  nz 185400  OK\n",
      "Factorizing (Cholmod) system matrix ... Forward: time: 1.798s\n"
     ]
    },
    {
     "data": {
      "text/plain": [
       "Data: Sensors: 33 data: 151, nonzero entries: ['a', 'b', 'err', 'iperr', 'k', 'm', 'n', 'phia', 'rhoa', 'valid']"
      ]
     },
     "execution_count": 10,
     "metadata": {},
     "output_type": "execute_result"
    }
   ],
   "source": [
    "pg_data, data_log_complex, Cd_inv = pygimli_data(a_locs, b_locs, m_locs, n_locs, dc_obs, dc_err, ip_obs, ip_err)\n",
    "pg_data"
   ]
  },
  {
   "cell_type": "code",
   "execution_count": 11,
   "id": "1482f84a-489d-44bb-abc6-d7132a8a705e",
   "metadata": {
    "execution": {
     "iopub.execute_input": "2022-11-23T00:22:12.737096Z",
     "iopub.status.busy": "2022-11-23T00:22:12.736590Z",
     "iopub.status.idle": "2022-11-23T00:22:13.502836Z",
     "shell.execute_reply": "2022-11-23T00:22:13.502235Z"
    },
    "papermill": {
     "duration": 0.838471,
     "end_time": "2022-11-23T00:22:13.503929",
     "exception": false,
     "start_time": "2022-11-23T00:22:12.665458",
     "status": "completed"
    },
    "tags": []
   },
   "outputs": [
    {
     "data": {
      "image/png": "[encoded data removed]",
      "text/plain": [
       "<Figure size 1000x400 with 4 Axes>"
      ]
     },
     "metadata": {},
     "output_type": "display_data"
    },
    {
     "data": {
      "image/png": "[encoded data removed]",
      "text/plain": [
       "<Figure size 1000x400 with 4 Axes>"
      ]
     },
     "metadata": {},
     "output_type": "display_data"
    }
   ],
   "source": [
    "plot_data(pg_data, np.exp(data_log_complex), \"Data Observatons\")\n",
    "plot_data(pg_data, np.diag(Cd_inv), \"Data covariance inverse weighting in log space\")"
   ]
  },
  {
   "cell_type": "markdown",
   "id": "4fcbe464-828f-42b5-aacb-b7e38a6ad53e",
   "metadata": {
    "papermill": {
     "duration": 0.00559,
     "end_time": "2022-11-23T00:22:13.516163",
     "exception": false,
     "start_time": "2022-11-23T00:22:13.510573",
     "status": "completed"
    },
    "tags": []
   },
   "source": [
    "### 4.2. ERT manager"
   ]
  },
  {
   "cell_type": "code",
   "execution_count": 12,
   "id": "4fc7efb9-4bf6-4689-b557-310cee73a163",
   "metadata": {
    "execution": {
     "iopub.execute_input": "2022-11-23T00:22:13.528686Z",
     "iopub.status.busy": "2022-11-23T00:22:13.528473Z",
     "iopub.status.idle": "2022-11-23T00:22:13.531745Z",
     "shell.execute_reply": "2022-11-23T00:22:13.531263Z"
    },
    "papermill": {
     "duration": 0.010977,
     "end_time": "2022-11-23T00:22:13.532645",
     "exception": false,
     "start_time": "2022-11-23T00:22:13.521668",
     "status": "completed"
    },
    "tags": []
   },
   "outputs": [],
   "source": [
    "ert_mgr = ert_manager(pg_data)"
   ]
  },
  {
   "cell_type": "markdown",
   "id": "c5f38fc8-ad3c-46d2-b0a9-ecca2ecf5fce",
   "metadata": {
    "papermill": {
     "duration": 0.005647,
     "end_time": "2022-11-23T00:22:13.544146",
     "exception": false,
     "start_time": "2022-11-23T00:22:13.538499",
     "status": "completed"
    },
    "tags": []
   },
   "source": [
    "### 4.3. Inversion mesh"
   ]
  },
  {
   "cell_type": "code",
   "execution_count": 13,
   "id": "50030317-7af6-4c04-8285-92327b192c04",
   "metadata": {
    "execution": {
     "iopub.execute_input": "2022-11-23T00:22:13.556156Z",
     "iopub.status.busy": "2022-11-23T00:22:13.555814Z",
     "iopub.status.idle": "2022-11-23T00:22:14.103199Z",
     "shell.execute_reply": "2022-11-23T00:22:14.102282Z"
    },
    "papermill": {
     "duration": 0.554502,
     "end_time": "2022-11-23T00:22:14.104164",
     "exception": false,
     "start_time": "2022-11-23T00:22:13.549662",
     "status": "completed"
    },
    "tags": []
   },
   "outputs": [
    {
     "name": "stderr",
     "output_type": "stream",
     "text": [
      "23/11/22 - 11:22:13 - pyGIMLi - \u001b[0;32;49mINFO\u001b[0m - Found 1 regions.\n"
     ]
    },
    {
     "name": "stdout",
     "output_type": "stream",
     "text": [
      "model size 2204\n"
     ]
    },
    {
     "data": {
      "image/png": "[encoded data removed]",
      "text/plain": [
       "<Figure size 640x480 with 1 Axes>"
      ]
     },
     "metadata": {},
     "output_type": "display_data"
    }
   ],
   "source": [
    "# inv_mesh = inversion_mesh(ert_mgr)\n",
    "inv_mesh = inversion_mesh_ubc(ert_mgr)\n",
    "\n",
    "plot_mesh(inv_mesh)"
   ]
  },
  {
   "cell_type": "markdown",
   "id": "50403085-b80d-466e-bad5-96205b796329",
   "metadata": {
    "papermill": {
     "duration": 0.006659,
     "end_time": "2022-11-23T00:22:14.117617",
     "exception": false,
     "start_time": "2022-11-23T00:22:14.110958",
     "status": "completed"
    },
    "tags": []
   },
   "source": [
    "### 4.4. Forward operator"
   ]
  },
  {
   "cell_type": "code",
   "execution_count": 14,
   "id": "835bc3a3-3e8c-472d-b4b7-4c31bcd75c13",
   "metadata": {
    "execution": {
     "iopub.execute_input": "2022-11-23T00:22:14.131975Z",
     "iopub.status.busy": "2022-11-23T00:22:14.131762Z",
     "iopub.status.idle": "2022-11-23T00:22:14.160386Z",
     "shell.execute_reply": "2022-11-23T00:22:14.159862Z"
    },
    "papermill": {
     "duration": 0.036927,
     "end_time": "2022-11-23T00:22:14.161175",
     "exception": false,
     "start_time": "2022-11-23T00:22:14.124248",
     "status": "completed"
    },
    "tags": []
   },
   "outputs": [],
   "source": [
    "forward_oprt = ert_forward_operator(ert_mgr, pg_data, inv_mesh)"
   ]
  },
  {
   "cell_type": "markdown",
   "id": "a05615b9-ce12-41b7-8bdd-c447a17ca25b",
   "metadata": {
    "papermill": {
     "duration": 0.006371,
     "end_time": "2022-11-23T00:22:14.173121",
     "exception": false,
     "start_time": "2022-11-23T00:22:14.166750",
     "status": "completed"
    },
    "tags": []
   },
   "source": [
    "### 4.5. Regularization matrix"
   ]
  },
  {
   "cell_type": "code",
   "execution_count": 15,
   "id": "578655a0-70f9-4d57-b9ca-4953272fdb16",
   "metadata": {
    "execution": {
     "iopub.execute_input": "2022-11-23T00:22:14.185896Z",
     "iopub.status.busy": "2022-11-23T00:22:14.185601Z",
     "iopub.status.idle": "2022-11-23T00:22:14.224405Z",
     "shell.execute_reply": "2022-11-23T00:22:14.223875Z"
    },
    "papermill": {
     "duration": 0.046234,
     "end_time": "2022-11-23T00:22:14.225264",
     "exception": false,
     "start_time": "2022-11-23T00:22:14.179030",
     "status": "completed"
    },
    "tags": []
   },
   "outputs": [],
   "source": [
    "Wm = reg_matrix(forward_oprt, inv_mesh)"
   ]
  },
  {
   "cell_type": "markdown",
   "id": "2312096a-a08d-442d-882a-d788ee4d6a3d",
   "metadata": {
    "papermill": {
     "duration": 0.006639,
     "end_time": "2022-11-23T00:22:14.237596",
     "exception": false,
     "start_time": "2022-11-23T00:22:14.230957",
     "status": "completed"
    },
    "tags": []
   },
   "source": [
    "### 4.6. Starting model"
   ]
  },
  {
   "cell_type": "code",
   "execution_count": 16,
   "id": "d41fb6eb-5009-44b6-8bec-5bbf82d34bd6",
   "metadata": {
    "execution": {
     "iopub.execute_input": "2022-11-23T00:22:14.250529Z",
     "iopub.status.busy": "2022-11-23T00:22:14.250228Z",
     "iopub.status.idle": "2022-11-23T00:22:14.820857Z",
     "shell.execute_reply": "2022-11-23T00:22:14.820246Z"
    },
    "papermill": {
     "duration": 0.578285,
     "end_time": "2022-11-23T00:22:14.821788",
     "exception": false,
     "start_time": "2022-11-23T00:22:14.243503",
     "status": "completed"
    },
    "tags": []
   },
   "outputs": [
    {
     "name": "stderr",
     "output_type": "stream",
     "text": [
      "23/11/22 - 11:22:14 - pyGIMLi - \u001b[0;32;49mINFO\u001b[0m - Creating forward mesh from region infos.\n",
      "23/11/22 - 11:22:14 - pyGIMLi - \u001b[0;32;49mINFO\u001b[0m - Creating refined mesh (H2) to solve forward task.\n"
     ]
    },
    {
     "data": {
      "image/png": "[encoded data removed]",
      "text/plain": [
       "<Figure size 1200x500 with 4 Axes>"
      ]
     },
     "metadata": {},
     "output_type": "display_data"
    }
   ],
   "source": [
    "start_model_complex, start_model_log_complex, start_model_log_real = starting_model(pg_data, ert_mgr.paraDomain)\n",
    "\n",
    "plot_model(ert_mgr.paraDomain, start_model_complex, \"Starting model\")"
   ]
  },
  {
   "cell_type": "markdown",
   "id": "90cf3528-811b-4ffe-b5fb-4f30032106f4",
   "metadata": {
    "papermill": {
     "duration": 0.006847,
     "end_time": "2022-11-23T00:22:14.835840",
     "exception": false,
     "start_time": "2022-11-23T00:22:14.828993",
     "status": "completed"
    },
    "tags": []
   },
   "source": [
    "## 5. Create utility functions to pass to CoFI\n",
    "\n",
    "CoFI and other inference packages require a set of functions that provide the misfit, the jacobian the residual within the case of scipy standardised interfaces. All these functions are defined below as additional utility functions, so feel free to read them into details if you want to understand more. These functions are:\n",
    "\n",
    "- `get_response`\n",
    "- `get_jacobian`\n",
    "- `get_residuals`\n",
    "- `get_data_misfit`\n",
    "- `get_regularization`\n",
    "- `get_gradient`\n",
    "- `get_hessian`"
   ]
  },
  {
   "cell_type": "code",
   "execution_count": 17,
   "id": "c9e579ec-7f15-4ae6-bac5-98486d014025",
   "metadata": {
    "execution": {
     "iopub.execute_input": "2022-11-23T00:22:14.849685Z",
     "iopub.status.busy": "2022-11-23T00:22:14.849496Z",
     "iopub.status.idle": "2022-11-23T00:22:14.858546Z",
     "shell.execute_reply": "2022-11-23T00:22:14.858095Z"
    },
    "papermill": {
     "duration": 0.01716,
     "end_time": "2022-11-23T00:22:14.859427",
     "exception": false,
     "start_time": "2022-11-23T00:22:14.842267",
     "status": "completed"
    },
    "tags": []
   },
   "outputs": [],
   "source": [
    "# Utility Functions (additional)\n",
    "\n",
    "def _ensure_numpy(model):\n",
    "    if \"torch.Tensor\" in str(type(model)):\n",
    "        model = model.cpu().detach().numpy()\n",
    "    return model\n",
    "\n",
    "# model_log_complex -> data_log_complex\n",
    "def get_response(model_log_complex, fop):\n",
    "    model_complex = np.exp(model_log_complex)\n",
    "    model_real = complex_to_real(model_complex)\n",
    "    model_real = _ensure_numpy(model_real)\n",
    "    data_real = np.array(fop.response(model_real))\n",
    "    data_complex = complex_from_real(data_real)\n",
    "    data_log_complex = np.log(data_complex)\n",
    "    return data_log_complex\n",
    "\n",
    "# model_log_complex -> J_log_log_complex\n",
    "def get_jacobian(model_log_complex, fop):\n",
    "    model_complex = np.exp(model_log_complex)\n",
    "    model_real = complex_to_real(model_complex)\n",
    "    model_real = _ensure_numpy(model_real)\n",
    "    J_block = fop.createJacobian(model_real)\n",
    "    J_real = np.array(J_block.mat(0))\n",
    "    J_imag = np.array(J_block.mat(1))\n",
    "    J_complex = J_real + 1j * J_imag\n",
    "    data_log_complex = get_response(model_log_complex, fop)\n",
    "    data_complex = np.exp(data_log_complex)\n",
    "    J_log_log_complex = J_complex / data_complex[:,np.newaxis] * model_complex[np.newaxis,:]\n",
    "    return J_log_log_complex\n",
    "\n",
    "# model_log_complex -> res_data_log_complex\n",
    "def get_residuals(model_log_complex, data_log_complex, fop):\n",
    "    synth_data_log_complex = get_response(model_log_complex, fop)\n",
    "    return data_log_complex - synth_data_log_complex\n",
    "\n",
    "# model_log_real -> obj_log_real\n",
    "def get_objective(model_log_real, data_log_complex, fop, lamda, Wm, Cd_inv):\n",
    "    # convert model_log_real into complex numbers\n",
    "    model_log_complex = complex_from_real(model_log_real)\n",
    "    # calculate data misfit\n",
    "    res_log_complex = get_residuals(model_log_complex, data_log_complex, fop)\n",
    "    data_misfit = res_log_complex.conj().dot(Cd_inv).dot(res_log_complex)\n",
    "    # calculate regularization term\n",
    "    weighted_model_log_real = Wm.dot(model_log_complex)\n",
    "    reg = lamda * weighted_model_log_real.conj().dot(weighted_model_log_real)\n",
    "    # sum up\n",
    "    print(f\"data misfit: {np.abs(data_misfit)}, reg: {np.abs(reg)}\")\n",
    "    result = np.abs(data_misfit + reg)\n",
    "    return result\n",
    "\n",
    "# model_log_real -> grad_log_real\n",
    "def get_gradient(model_log_real, data_log_complex, fop, lamda, Wm, Cd_inv):\n",
    "    # convert model_log_real into complex numbers\n",
    "    model_log_complex = complex_from_real(model_log_real)\n",
    "    # calculate gradient for data misfit\n",
    "    res = get_residuals(model_log_complex, data_log_complex, fop)\n",
    "    jac = get_jacobian(model_log_complex, fop)\n",
    "    data_misfit_grad = - jac.conj().T.dot(Cd_inv).dot(res)\n",
    "    # calculate gradient for regularization term\n",
    "    reg_grad = lamda * Wm.T.dot(Wm).dot(model_log_complex)\n",
    "    # sum up\n",
    "    grad_complex = data_misfit_grad + reg_grad\n",
    "    grad_real = complex_to_real(grad_complex)\n",
    "    return grad_real\n",
    "\n",
    "# model_log_real -> hess_log_real\n",
    "def get_hessian(model_log_real, data_log_complex, fop, lamda, Wm, Cd_inv):\n",
    "    # convert model_log_real into complex numbers\n",
    "    model_log_complex = complex_from_real(model_log_real)\n",
    "    # calculate hessian for data misfit\n",
    "    res = get_residuals(model_log_complex, data_log_complex, fop)\n",
    "    jac = get_jacobian(model_log_complex, fop)\n",
    "    data_misfit_hessian = jac.conj().T.dot(Cd_inv).dot(jac)\n",
    "    # calculate hessian for regularization term\n",
    "    reg_hessian = lamda * Wm.T.dot(Wm)\n",
    "    # sum up\n",
    "    hessian_complex = data_misfit_hessian + reg_hessian\n",
    "    nparams = len(model_log_complex)\n",
    "    hessian_real = np.zeros((2*nparams, 2*nparams))\n",
    "    hessian_real[:nparams,:nparams] = np.real(hessian_complex)\n",
    "    hessian_real[:nparams,nparams:] = -np.imag(hessian_complex)\n",
    "    hessian_real[nparams:,:nparams] = np.imag(hessian_complex)\n",
    "    hessian_real[nparams:,nparams:] = np.real(hessian_complex)\n",
    "    return hessian_real"
   ]
  },
  {
   "cell_type": "code",
   "execution_count": 18,
   "id": "bd3740e3-3ca8-450e-bf2f-31ff92485319",
   "metadata": {
    "execution": {
     "iopub.execute_input": "2022-11-23T00:22:14.873180Z",
     "iopub.status.busy": "2022-11-23T00:22:14.872935Z",
     "iopub.status.idle": "2022-11-23T00:22:19.842301Z",
     "shell.execute_reply": "2022-11-23T00:22:19.841260Z"
    },
    "papermill": {
     "duration": 4.97772,
     "end_time": "2022-11-23T00:22:19.843314",
     "exception": false,
     "start_time": "2022-11-23T00:22:14.865594",
     "status": "completed"
    },
    "tags": []
   },
   "outputs": [
    {
     "name": "stdout",
     "output_type": "stream",
     "text": [
      "run again\n"
     ]
    }
   ],
   "source": [
    "# test\n",
    "try:\n",
    "    get_response(start_model_log_real, forward_oprt)\n",
    "except RuntimeError:\n",
    "    print(\"run again\")\n",
    "    get_response(start_model_log_real, forward_oprt)"
   ]
  },
  {
   "cell_type": "code",
   "execution_count": 19,
   "id": "19b294b9-6088-4c1e-a1fd-97288b037283",
   "metadata": {
    "execution": {
     "iopub.execute_input": "2022-11-23T00:22:19.868522Z",
     "iopub.status.busy": "2022-11-23T00:22:19.868167Z",
     "iopub.status.idle": "2022-11-23T00:22:24.534292Z",
     "shell.execute_reply": "2022-11-23T00:22:24.533502Z"
    },
    "papermill": {
     "duration": 4.684245,
     "end_time": "2022-11-23T00:22:24.535573",
     "exception": false,
     "start_time": "2022-11-23T00:22:19.851328",
     "status": "completed"
    },
    "tags": []
   },
   "outputs": [
    {
     "name": "stdout",
     "output_type": "stream",
     "text": [
      "data misfit: 16.319539850332653, reg: 0.0\n"
     ]
    },
    {
     "data": {
      "text/plain": [
       "16.319539850332653"
      ]
     },
     "execution_count": 19,
     "metadata": {},
     "output_type": "execute_result"
    }
   ],
   "source": [
    "# test\n",
    "obj_val = get_objective(start_model_log_real, data_log_complex, forward_oprt, 0.0001, Wm, Cd_inv)\n",
    "obj_val"
   ]
  },
  {
   "cell_type": "code",
   "execution_count": 20,
   "id": "0abcea43-3ac5-4f01-9053-6d884301d778",
   "metadata": {
    "execution": {
     "iopub.execute_input": "2022-11-23T00:22:24.553999Z",
     "iopub.status.busy": "2022-11-23T00:22:24.553621Z",
     "iopub.status.idle": "2022-11-23T00:22:34.085137Z",
     "shell.execute_reply": "2022-11-23T00:22:34.084365Z"
    },
    "papermill": {
     "duration": 9.542046,
     "end_time": "2022-11-23T00:22:34.086626",
     "exception": false,
     "start_time": "2022-11-23T00:22:24.544580",
     "status": "completed"
    },
    "tags": []
   },
   "outputs": [
    {
     "name": "stdout",
     "output_type": "stream",
     "text": [
      "*** check /home/florian/miniconda3/conda-bld/pgcore_1645022399690/work/gimli/core/src/bert/dcfemmodelling.cpp:1424\t\n"
     ]
    },
    {
     "data": {
      "text/plain": [
       "((4408,), 4408 [-0.0009877271233797596,...,-2.912339357301998e-07])"
      ]
     },
     "execution_count": 20,
     "metadata": {},
     "output_type": "execute_result"
    }
   ],
   "source": [
    "# test\n",
    "gradient = get_gradient(start_model_log_real, data_log_complex, forward_oprt, 0.0001, Wm, Cd_inv)\n",
    "gradient.shape, gradient"
   ]
  },
  {
   "cell_type": "code",
   "execution_count": 21,
   "id": "abd52bcc-bac5-4099-9537-960ac97cd353",
   "metadata": {
    "execution": {
     "iopub.execute_input": "2022-11-23T00:22:34.129335Z",
     "iopub.status.busy": "2022-11-23T00:22:34.129071Z",
     "iopub.status.idle": "2022-11-23T00:22:43.801812Z",
     "shell.execute_reply": "2022-11-23T00:22:43.800773Z"
    },
    "papermill": {
     "duration": 9.702169,
     "end_time": "2022-11-23T00:22:43.803642",
     "exception": false,
     "start_time": "2022-11-23T00:22:34.101473",
     "status": "completed"
    },
    "tags": []
   },
   "outputs": [
    {
     "name": "stdout",
     "output_type": "stream",
     "text": [
      "*** check /home/florian/miniconda3/conda-bld/pgcore_1645022399690/work/gimli/core/src/bert/dcfemmodelling.cpp:1424\t\n"
     ]
    },
    {
     "data": {
      "text/plain": [
       "((4408, 4408),\n",
       " array([[ 2.00786618e-04, -9.94547039e-05,  3.41022760e-07, ...,\n",
       "          4.15236556e-19,  5.31181170e-20,  6.69220727e-20],\n",
       "        [-9.94547039e-05,  3.00379214e-04, -9.97627593e-05, ...,\n",
       "          1.21973496e-19, -2.97641364e-21,  2.85599727e-20],\n",
       "        [ 3.41022760e-07, -9.97627593e-05,  3.00148456e-04, ...,\n",
       "          2.08461846e-20, -1.29535280e-20,  1.38198634e-20],\n",
       "        ...,\n",
       "        [ 4.15236360e-19,  1.21973382e-19,  2.08461194e-20, ...,\n",
       "          3.09650163e-04, -9.72121869e-05,  4.87928282e-07],\n",
       "        [ 5.31180352e-20, -2.97646230e-21, -1.29535563e-20, ...,\n",
       "         -9.72121869e-05,  3.00841792e-04, -9.98438300e-05],\n",
       "        [ 6.69220425e-20,  2.85599542e-20,  1.38198523e-20, ...,\n",
       "          4.87928282e-07, -9.98438300e-05,  2.00031573e-04]]))"
      ]
     },
     "execution_count": 21,
     "metadata": {},
     "output_type": "execute_result"
    }
   ],
   "source": [
    "# test\n",
    "hessian = get_hessian(start_model_log_real, data_log_complex, forward_oprt, 0.0001, Wm, Cd_inv)\n",
    "hessian.shape, hessian"
   ]
  },
  {
   "cell_type": "markdown",
   "id": "564164b7-54d5-4cb8-a826-d34621d8e22e",
   "metadata": {
    "papermill": {
     "duration": 0.018883,
     "end_time": "2022-11-23T00:22:43.850463",
     "exception": false,
     "start_time": "2022-11-23T00:22:43.831580",
     "status": "completed"
    },
    "tags": []
   },
   "source": [
    "With all the above forward operations set up with PyGIMLi, we now define the problem in `cofi`\n",
    "by setting the problem information for a `BaseProblem` object."
   ]
  },
  {
   "cell_type": "code",
   "execution_count": 22,
   "id": "b12d34c7-5fbf-4290-9eb8-2369d6bf299f",
   "metadata": {
    "execution": {
     "iopub.execute_input": "2022-11-23T00:22:43.883649Z",
     "iopub.status.busy": "2022-11-23T00:22:43.883438Z",
     "iopub.status.idle": "2022-11-23T00:22:43.887708Z",
     "shell.execute_reply": "2022-11-23T00:22:43.887221Z"
    },
    "papermill": {
     "duration": 0.031516,
     "end_time": "2022-11-23T00:22:43.888617",
     "exception": false,
     "start_time": "2022-11-23T00:22:43.857101",
     "status": "completed"
    },
    "tags": []
   },
   "outputs": [],
   "source": [
    "# hyperparameters\n",
    "lamda=0.001\n",
    "\n",
    "# CoFI - define BaseProblem\n",
    "dcip_problem = cofi.BaseProblem()\n",
    "dcip_problem.name = \"DC-IP defined through PyGIMLi\"\n",
    "dcip_problem.set_objective(get_objective, args=[data_log_complex, forward_oprt, lamda, Wm, Cd_inv])\n",
    "dcip_problem.set_gradient(get_gradient, args=[data_log_complex, forward_oprt, lamda, Wm, Cd_inv])\n",
    "dcip_problem.set_hessian(get_hessian, args=[data_log_complex, forward_oprt, lamda, Wm, Cd_inv])\n",
    "dcip_problem.set_initial_model(start_model_log_real)"
   ]
  },
  {
   "cell_type": "code",
   "execution_count": 23,
   "id": "ab6af546-05a5-49f8-9887-91681ad68093",
   "metadata": {
    "execution": {
     "iopub.execute_input": "2022-11-23T00:22:43.914553Z",
     "iopub.status.busy": "2022-11-23T00:22:43.914379Z",
     "iopub.status.idle": "2022-11-23T00:22:44.161569Z",
     "shell.execute_reply": "2022-11-23T00:22:44.161002Z"
    },
    "papermill": {
     "duration": 0.264351,
     "end_time": "2022-11-23T00:22:44.162566",
     "exception": false,
     "start_time": "2022-11-23T00:22:43.898215",
     "status": "completed"
    },
    "tags": []
   },
   "outputs": [
    {
     "name": "stdout",
     "output_type": "stream",
     "text": [
      "Based on what you've provided so far, here are possible solvers:\n",
      "{\n",
      "    \"optimization\": [\n",
      "        \"scipy.optimize.minimize\",\n",
      "        \"torch.optim\"\n",
      "    ],\n",
      "    \"matrix solvers\": [\n",
      "        \"cofi.simple_newton\"\n",
      "    ],\n",
      "    \"sampling\": []\n",
      "}\n"
     ]
    }
   ],
   "source": [
    "dcip_problem.suggest_tools();"
   ]
  },
  {
   "cell_type": "markdown",
   "id": "41eb5e4f-ef97-495b-aafe-ed214674cfc9",
   "metadata": {
    "papermill": {
     "duration": 0.014226,
     "end_time": "2022-11-23T00:22:44.184707",
     "exception": false,
     "start_time": "2022-11-23T00:22:44.170481",
     "status": "completed"
    },
    "tags": []
   },
   "source": [
    "## 6. Define the inversion options and run\n",
    "\n",
    "Rectangular mesh solved with SciPy's optimizer (trust-ncg)"
   ]
  },
  {
   "cell_type": "code",
   "execution_count": 24,
   "id": "7842c3bd-54ce-406b-b482-31018fcb5753",
   "metadata": {
    "execution": {
     "iopub.execute_input": "2022-11-23T00:22:44.209810Z",
     "iopub.status.busy": "2022-11-23T00:22:44.209571Z",
     "iopub.status.idle": "2022-11-23T00:22:44.213382Z",
     "shell.execute_reply": "2022-11-23T00:22:44.212906Z"
    },
    "papermill": {
     "duration": 0.012477,
     "end_time": "2022-11-23T00:22:44.214369",
     "exception": false,
     "start_time": "2022-11-23T00:22:44.201892",
     "status": "completed"
    },
    "tags": []
   },
   "outputs": [],
   "source": [
    "inv_options_scipy = cofi.InversionOptions()\n",
    "inv_options_scipy.set_tool(\"scipy.optimize.minimize\")\n",
    "\n",
    "class CallBack:\n",
    "    def __init__(self):\n",
    "        self._i = 1\n",
    "    def __call__(self, x):\n",
    "        print(f\"Iteration #{self._i}, objective value: {dcip_problem.objective(x)}\")\n",
    "        self._i += 1\n",
    "        \n",
    "inv_options_scipy.set_params(method=\"trust-ncg\", options={\"maxiter\":10}, callback=CallBack())"
   ]
  },
  {
   "cell_type": "code",
   "execution_count": 25,
   "id": "b6303f30-1760-47b2-a23d-1e447579c8c6",
   "metadata": {
    "execution": {
     "iopub.execute_input": "2022-11-23T00:22:44.229594Z",
     "iopub.status.busy": "2022-11-23T00:22:44.229429Z",
     "iopub.status.idle": "2022-11-23T00:45:57.170204Z",
     "shell.execute_reply": "2022-11-23T00:45:57.169367Z"
    },
    "papermill": {
     "duration": 1392.950243,
     "end_time": "2022-11-23T00:45:57.171817",
     "exception": false,
     "start_time": "2022-11-23T00:22:44.221574",
     "status": "completed"
    },
    "tags": []
   },
   "outputs": [
    {
     "name": "stdout",
     "output_type": "stream",
     "text": [
      "data misfit: 16.319539850332653, reg: 0.0\n",
      "*** check /home/florian/miniconda3/conda-bld/pgcore_1645022399690/work/gimli/core/src/bert/dcfemmodelling.cpp:1424\t\n",
      "*** check /home/florian/miniconda3/conda-bld/pgcore_1645022399690/work/gimli/core/src/bert/dcfemmodelling.cpp:1424\t\n",
      "*** check /home/florian/miniconda3/conda-bld/pgcore_1645022399690/work/gimli/core/src/bert/dcfemmodelling.cpp:1424\t\n",
      "*** check /home/florian/miniconda3/conda-bld/pgcore_1645022399690/work/gimli/core/src/bert/dcfemmodelling.cpp:1424\t\n",
      "data misfit: 11.04252539275583, reg: 0.0023580586025324676\n",
      "data misfit: 11.04252539275583, reg: 0.0023580586025324676\n",
      "Iteration #1, objective value: 11.044883451358361\n",
      "*** check /home/florian/miniconda3/conda-bld/pgcore_1645022399690/work/gimli/core/src/bert/dcfemmodelling.cpp:1424\t\n",
      "*** check /home/florian/miniconda3/conda-bld/pgcore_1645022399690/work/gimli/core/src/bert/dcfemmodelling.cpp:1424\t\n",
      "*** check /home/florian/miniconda3/conda-bld/pgcore_1645022399690/work/gimli/core/src/bert/dcfemmodelling.cpp:1424\t\n",
      "data misfit: 6.261329805330525, reg: 0.020993777955523787\n",
      "data misfit: 6.261329805330525, reg: 0.020993777955523787\n",
      "Iteration #2, objective value: 6.282323583286049\n",
      "*** check /home/florian/miniconda3/conda-bld/pgcore_1645022399690/work/gimli/core/src/bert/dcfemmodelling.cpp:1424\t\n",
      "*** check /home/florian/miniconda3/conda-bld/pgcore_1645022399690/work/gimli/core/src/bert/dcfemmodelling.cpp:1424\t\n",
      "*** check /home/florian/miniconda3/conda-bld/pgcore_1645022399690/work/gimli/core/src/bert/dcfemmodelling.cpp:1424\t\n",
      "*** check /home/florian/miniconda3/conda-bld/pgcore_1645022399690/work/gimli/core/src/bert/dcfemmodelling.cpp:1424\t\n",
      "*** check /home/florian/miniconda3/conda-bld/pgcore_1645022399690/work/gimli/core/src/bert/dcfemmodelling.cpp:1424\t\n",
      "data misfit: 2.998388974706521, reg: 0.060651388392349785\n",
      "data misfit: 2.998388974706521, reg: 0.060651388392349785\n",
      "Iteration #3, objective value: 3.059040363098871\n",
      "*** check /home/florian/miniconda3/conda-bld/pgcore_1645022399690/work/gimli/core/src/bert/dcfemmodelling.cpp:1424\t\n",
      "*** check /home/florian/miniconda3/conda-bld/pgcore_1645022399690/work/gimli/core/src/bert/dcfemmodelling.cpp:1424\t\n",
      "*** check /home/florian/miniconda3/conda-bld/pgcore_1645022399690/work/gimli/core/src/bert/dcfemmodelling.cpp:1424\t\n",
      "*** check /home/florian/miniconda3/conda-bld/pgcore_1645022399690/work/gimli/core/src/bert/dcfemmodelling.cpp:1424\t\n",
      "*** check /home/florian/miniconda3/conda-bld/pgcore_1645022399690/work/gimli/core/src/bert/dcfemmodelling.cpp:1424\t\n",
      "*** check /home/florian/miniconda3/conda-bld/pgcore_1645022399690/work/gimli/core/src/bert/dcfemmodelling.cpp:1424\t\n",
      "*** check /home/florian/miniconda3/conda-bld/pgcore_1645022399690/work/gimli/core/src/bert/dcfemmodelling.cpp:1424\t\n",
      "data misfit: 0.7301927638720261, reg: 0.09326985482946941\n",
      "data misfit: 0.7301927638720261, reg: 0.09326985482946941\n",
      "Iteration #4, objective value: 0.8234626187014955\n",
      "*** check /home/florian/miniconda3/conda-bld/pgcore_1645022399690/work/gimli/core/src/bert/dcfemmodelling.cpp:1424\t\n",
      "*** check /home/florian/miniconda3/conda-bld/pgcore_1645022399690/work/gimli/core/src/bert/dcfemmodelling.cpp:1424\t\n",
      "*** check /home/florian/miniconda3/conda-bld/pgcore_1645022399690/work/gimli/core/src/bert/dcfemmodelling.cpp:1424\t\n",
      "*** check /home/florian/miniconda3/conda-bld/pgcore_1645022399690/work/gimli/core/src/bert/dcfemmodelling.cpp:1424\t\n",
      "*** check /home/florian/miniconda3/conda-bld/pgcore_1645022399690/work/gimli/core/src/bert/dcfemmodelling.cpp:1424\t\n",
      "data misfit: 0.454988739816638, reg: 0.08835944250330433\n",
      "data misfit: 0.454988739816638, reg: 0.08835944250330433\n",
      "Iteration #5, objective value: 0.5433481823199423\n",
      "*** check /home/florian/miniconda3/conda-bld/pgcore_1645022399690/work/gimli/core/src/bert/dcfemmodelling.cpp:1424\t\n",
      "*** check /home/florian/miniconda3/conda-bld/pgcore_1645022399690/work/gimli/core/src/bert/dcfemmodelling.cpp:1424\t\n",
      "*** check /home/florian/miniconda3/conda-bld/pgcore_1645022399690/work/gimli/core/src/bert/dcfemmodelling.cpp:1424\t\n",
      "*** check /home/florian/miniconda3/conda-bld/pgcore_1645022399690/work/gimli/core/src/bert/dcfemmodelling.cpp:1424\t\n",
      "*** check /home/florian/miniconda3/conda-bld/pgcore_1645022399690/work/gimli/core/src/bert/dcfemmodelling.cpp:1424\t\n",
      "*** check /home/florian/miniconda3/conda-bld/pgcore_1645022399690/work/gimli/core/src/bert/dcfemmodelling.cpp:1424\t\n",
      "*** check /home/florian/miniconda3/conda-bld/pgcore_1645022399690/work/gimli/core/src/bert/dcfemmodelling.cpp:1424\t\n",
      "*** check /home/florian/miniconda3/conda-bld/pgcore_1645022399690/work/gimli/core/src/bert/dcfemmodelling.cpp:1424\t\n",
      "*** check /home/florian/miniconda3/conda-bld/pgcore_1645022399690/work/gimli/core/src/bert/dcfemmodelling.cpp:1424\t\n",
      "*** check /home/florian/miniconda3/conda-bld/pgcore_1645022399690/work/gimli/core/src/bert/dcfemmodelling.cpp:1424\t\n",
      "data misfit: 0.11464948194979925, reg: 0.11290700129234607\n",
      "data misfit: 0.11464948194979925, reg: 0.11290700129234607\n",
      "Iteration #6, objective value: 0.22755648324214534\n",
      "*** check /home/florian/miniconda3/conda-bld/pgcore_1645022399690/work/gimli/core/src/bert/dcfemmodelling.cpp:1424\t\n",
      "*** check /home/florian/miniconda3/conda-bld/pgcore_1645022399690/work/gimli/core/src/bert/dcfemmodelling.cpp:1424\t\n",
      "*** check /home/florian/miniconda3/conda-bld/pgcore_1645022399690/work/gimli/core/src/bert/dcfemmodelling.cpp:1424\t\n",
      "*** check /home/florian/miniconda3/conda-bld/pgcore_1645022399690/work/gimli/core/src/bert/dcfemmodelling.cpp:1424\t\n",
      "*** check /home/florian/miniconda3/conda-bld/pgcore_1645022399690/work/gimli/core/src/bert/dcfemmodelling.cpp:1424\t\n",
      "*** check /home/florian/miniconda3/conda-bld/pgcore_1645022399690/work/gimli/core/src/bert/dcfemmodelling.cpp:1424\t\n",
      "*** check /home/florian/miniconda3/conda-bld/pgcore_1645022399690/work/gimli/core/src/bert/dcfemmodelling.cpp:1424\t\n",
      "*** check /home/florian/miniconda3/conda-bld/pgcore_1645022399690/work/gimli/core/src/bert/dcfemmodelling.cpp:1424\t\n",
      "*** check /home/florian/miniconda3/conda-bld/pgcore_1645022399690/work/gimli/core/src/bert/dcfemmodelling.cpp:1424\t\n",
      "data misfit: 0.06555873110503506, reg: 0.10759975514341871\n",
      "data misfit: 0.06555873110503506, reg: 0.10759975514341871\n",
      "Iteration #7, objective value: 0.17315848624845376\n",
      "*** check /home/florian/miniconda3/conda-bld/pgcore_1645022399690/work/gimli/core/src/bert/dcfemmodelling.cpp:1424\t\n",
      "*** check /home/florian/miniconda3/conda-bld/pgcore_1645022399690/work/gimli/core/src/bert/dcfemmodelling.cpp:1424\t\n",
      "*** check /home/florian/miniconda3/conda-bld/pgcore_1645022399690/work/gimli/core/src/bert/dcfemmodelling.cpp:1424\t\n",
      "*** check /home/florian/miniconda3/conda-bld/pgcore_1645022399690/work/gimli/core/src/bert/dcfemmodelling.cpp:1424\t\n",
      "*** check /home/florian/miniconda3/conda-bld/pgcore_1645022399690/work/gimli/core/src/bert/dcfemmodelling.cpp:1424\t\n",
      "*** check /home/florian/miniconda3/conda-bld/pgcore_1645022399690/work/gimli/core/src/bert/dcfemmodelling.cpp:1424\t\n",
      "*** check /home/florian/miniconda3/conda-bld/pgcore_1645022399690/work/gimli/core/src/bert/dcfemmodelling.cpp:1424\t\n",
      "*** check /home/florian/miniconda3/conda-bld/pgcore_1645022399690/work/gimli/core/src/bert/dcfemmodelling.cpp:1424\t\n",
      "*** check /home/florian/miniconda3/conda-bld/pgcore_1645022399690/work/gimli/core/src/bert/dcfemmodelling.cpp:1424\t\n",
      "*** check /home/florian/miniconda3/conda-bld/pgcore_1645022399690/work/gimli/core/src/bert/dcfemmodelling.cpp:1424\t\n",
      "*** check /home/florian/miniconda3/conda-bld/pgcore_1645022399690/work/gimli/core/src/bert/dcfemmodelling.cpp:1424\t\n",
      "*** check /home/florian/miniconda3/conda-bld/pgcore_1645022399690/work/gimli/core/src/bert/dcfemmodelling.cpp:1424\t\n",
      "*** check /home/florian/miniconda3/conda-bld/pgcore_1645022399690/work/gimli/core/src/bert/dcfemmodelling.cpp:1424\t\n",
      "*** check /home/florian/miniconda3/conda-bld/pgcore_1645022399690/work/gimli/core/src/bert/dcfemmodelling.cpp:1424\t\n",
      "*** check /home/florian/miniconda3/conda-bld/pgcore_1645022399690/work/gimli/core/src/bert/dcfemmodelling.cpp:1424\t\n",
      "*** check /home/florian/miniconda3/conda-bld/pgcore_1645022399690/work/gimli/core/src/bert/dcfemmodelling.cpp:1424\t\n",
      "*** check /home/florian/miniconda3/conda-bld/pgcore_1645022399690/work/gimli/core/src/bert/dcfemmodelling.cpp:1424\t\n",
      "*** check /home/florian/miniconda3/conda-bld/pgcore_1645022399690/work/gimli/core/src/bert/dcfemmodelling.cpp:1424\t\n",
      "*** check /home/florian/miniconda3/conda-bld/pgcore_1645022399690/work/gimli/core/src/bert/dcfemmodelling.cpp:1424\t\n",
      "*** check /home/florian/miniconda3/conda-bld/pgcore_1645022399690/work/gimli/core/src/bert/dcfemmodelling.cpp:1424\t\n",
      "*** check /home/florian/miniconda3/conda-bld/pgcore_1645022399690/work/gimli/core/src/bert/dcfemmodelling.cpp:1424\t\n",
      "*** check /home/florian/miniconda3/conda-bld/pgcore_1645022399690/work/gimli/core/src/bert/dcfemmodelling.cpp:1424\t\n",
      "*** check /home/florian/miniconda3/conda-bld/pgcore_1645022399690/work/gimli/core/src/bert/dcfemmodelling.cpp:1424\t\n",
      "*** check /home/florian/miniconda3/conda-bld/pgcore_1645022399690/work/gimli/core/src/bert/dcfemmodelling.cpp:1424\t\n",
      "*** check /home/florian/miniconda3/conda-bld/pgcore_1645022399690/work/gimli/core/src/bert/dcfemmodelling.cpp:1424\t\n",
      "*** check /home/florian/miniconda3/conda-bld/pgcore_1645022399690/work/gimli/core/src/bert/dcfemmodelling.cpp:1424\t\n",
      "*** check /home/florian/miniconda3/conda-bld/pgcore_1645022399690/work/gimli/core/src/bert/dcfemmodelling.cpp:1424\t\n",
      "*** check /home/florian/miniconda3/conda-bld/pgcore_1645022399690/work/gimli/core/src/bert/dcfemmodelling.cpp:1424\t\n",
      "*** check /home/florian/miniconda3/conda-bld/pgcore_1645022399690/work/gimli/core/src/bert/dcfemmodelling.cpp:1424\t\n",
      "*** check /home/florian/miniconda3/conda-bld/pgcore_1645022399690/work/gimli/core/src/bert/dcfemmodelling.cpp:1424\t\n",
      "*** check /home/florian/miniconda3/conda-bld/pgcore_1645022399690/work/gimli/core/src/bert/dcfemmodelling.cpp:1424\t\n",
      "*** check /home/florian/miniconda3/conda-bld/pgcore_1645022399690/work/gimli/core/src/bert/dcfemmodelling.cpp:1424\t\n",
      "*** check /home/florian/miniconda3/conda-bld/pgcore_1645022399690/work/gimli/core/src/bert/dcfemmodelling.cpp:1424\t\n",
      "*** check /home/florian/miniconda3/conda-bld/pgcore_1645022399690/work/gimli/core/src/bert/dcfemmodelling.cpp:1424\t\n",
      "*** check /home/florian/miniconda3/conda-bld/pgcore_1645022399690/work/gimli/core/src/bert/dcfemmodelling.cpp:1424\t\n",
      "*** check /home/florian/miniconda3/conda-bld/pgcore_1645022399690/work/gimli/core/src/bert/dcfemmodelling.cpp:1424\t\n",
      "*** check /home/florian/miniconda3/conda-bld/pgcore_1645022399690/work/gimli/core/src/bert/dcfemmodelling.cpp:1424\t\n",
      "*** check /home/florian/miniconda3/conda-bld/pgcore_1645022399690/work/gimli/core/src/bert/dcfemmodelling.cpp:1424\t\n",
      "*** check /home/florian/miniconda3/conda-bld/pgcore_1645022399690/work/gimli/core/src/bert/dcfemmodelling.cpp:1424\t\n",
      "*** check /home/florian/miniconda3/conda-bld/pgcore_1645022399690/work/gimli/core/src/bert/dcfemmodelling.cpp:1424\t\n",
      "data misfit: 0.043705170748561166, reg: 0.09272083100721988\n",
      "data misfit: 0.043705170748561166, reg: 0.09272083100721988\n",
      "Iteration #8, objective value: 0.13642600175578104\n",
      "*** check /home/florian/miniconda3/conda-bld/pgcore_1645022399690/work/gimli/core/src/bert/dcfemmodelling.cpp:1424\t\n",
      "*** check /home/florian/miniconda3/conda-bld/pgcore_1645022399690/work/gimli/core/src/bert/dcfemmodelling.cpp:1424\t\n",
      "*** check /home/florian/miniconda3/conda-bld/pgcore_1645022399690/work/gimli/core/src/bert/dcfemmodelling.cpp:1424\t\n",
      "*** check /home/florian/miniconda3/conda-bld/pgcore_1645022399690/work/gimli/core/src/bert/dcfemmodelling.cpp:1424\t\n",
      "*** check /home/florian/miniconda3/conda-bld/pgcore_1645022399690/work/gimli/core/src/bert/dcfemmodelling.cpp:1424\t\n",
      "*** check /home/florian/miniconda3/conda-bld/pgcore_1645022399690/work/gimli/core/src/bert/dcfemmodelling.cpp:1424\t\n",
      "*** check /home/florian/miniconda3/conda-bld/pgcore_1645022399690/work/gimli/core/src/bert/dcfemmodelling.cpp:1424\t\n",
      "data misfit: 0.03145566881081115, reg: 0.09295411965122383\n",
      "data misfit: 0.03145566881081115, reg: 0.09295411965122383\n",
      "Iteration #9, objective value: 0.12440978846203499\n",
      "*** check /home/florian/miniconda3/conda-bld/pgcore_1645022399690/work/gimli/core/src/bert/dcfemmodelling.cpp:1424\t\n",
      "*** check /home/florian/miniconda3/conda-bld/pgcore_1645022399690/work/gimli/core/src/bert/dcfemmodelling.cpp:1424\t\n",
      "*** check /home/florian/miniconda3/conda-bld/pgcore_1645022399690/work/gimli/core/src/bert/dcfemmodelling.cpp:1424\t\n",
      "*** check /home/florian/miniconda3/conda-bld/pgcore_1645022399690/work/gimli/core/src/bert/dcfemmodelling.cpp:1424\t\n",
      "*** check /home/florian/miniconda3/conda-bld/pgcore_1645022399690/work/gimli/core/src/bert/dcfemmodelling.cpp:1424\t\n",
      "*** check /home/florian/miniconda3/conda-bld/pgcore_1645022399690/work/gimli/core/src/bert/dcfemmodelling.cpp:1424\t\n",
      "*** check /home/florian/miniconda3/conda-bld/pgcore_1645022399690/work/gimli/core/src/bert/dcfemmodelling.cpp:1424\t\n",
      "*** check /home/florian/miniconda3/conda-bld/pgcore_1645022399690/work/gimli/core/src/bert/dcfemmodelling.cpp:1424\t\n",
      "*** check /home/florian/miniconda3/conda-bld/pgcore_1645022399690/work/gimli/core/src/bert/dcfemmodelling.cpp:1424\t\n",
      "*** check /home/florian/miniconda3/conda-bld/pgcore_1645022399690/work/gimli/core/src/bert/dcfemmodelling.cpp:1424\t\n",
      "*** check /home/florian/miniconda3/conda-bld/pgcore_1645022399690/work/gimli/core/src/bert/dcfemmodelling.cpp:1424\t\n",
      "*** check /home/florian/miniconda3/conda-bld/pgcore_1645022399690/work/gimli/core/src/bert/dcfemmodelling.cpp:1424\t\n",
      "*** check /home/florian/miniconda3/conda-bld/pgcore_1645022399690/work/gimli/core/src/bert/dcfemmodelling.cpp:1424\t\n",
      "*** check /home/florian/miniconda3/conda-bld/pgcore_1645022399690/work/gimli/core/src/bert/dcfemmodelling.cpp:1424\t\n",
      "*** check /home/florian/miniconda3/conda-bld/pgcore_1645022399690/work/gimli/core/src/bert/dcfemmodelling.cpp:1424\t\n",
      "*** check /home/florian/miniconda3/conda-bld/pgcore_1645022399690/work/gimli/core/src/bert/dcfemmodelling.cpp:1424\t\n",
      "*** check /home/florian/miniconda3/conda-bld/pgcore_1645022399690/work/gimli/core/src/bert/dcfemmodelling.cpp:1424\t\n",
      "*** check /home/florian/miniconda3/conda-bld/pgcore_1645022399690/work/gimli/core/src/bert/dcfemmodelling.cpp:1424\t\n",
      "*** check /home/florian/miniconda3/conda-bld/pgcore_1645022399690/work/gimli/core/src/bert/dcfemmodelling.cpp:1424\t\n",
      "*** check /home/florian/miniconda3/conda-bld/pgcore_1645022399690/work/gimli/core/src/bert/dcfemmodelling.cpp:1424\t\n",
      "*** check /home/florian/miniconda3/conda-bld/pgcore_1645022399690/work/gimli/core/src/bert/dcfemmodelling.cpp:1424\t\n",
      "*** check /home/florian/miniconda3/conda-bld/pgcore_1645022399690/work/gimli/core/src/bert/dcfemmodelling.cpp:1424\t\n",
      "*** check /home/florian/miniconda3/conda-bld/pgcore_1645022399690/work/gimli/core/src/bert/dcfemmodelling.cpp:1424\t\n",
      "*** check /home/florian/miniconda3/conda-bld/pgcore_1645022399690/work/gimli/core/src/bert/dcfemmodelling.cpp:1424\t\n",
      "*** check /home/florian/miniconda3/conda-bld/pgcore_1645022399690/work/gimli/core/src/bert/dcfemmodelling.cpp:1424\t\n",
      "*** check /home/florian/miniconda3/conda-bld/pgcore_1645022399690/work/gimli/core/src/bert/dcfemmodelling.cpp:1424\t\n",
      "*** check /home/florian/miniconda3/conda-bld/pgcore_1645022399690/work/gimli/core/src/bert/dcfemmodelling.cpp:1424\t\n",
      "*** check /home/florian/miniconda3/conda-bld/pgcore_1645022399690/work/gimli/core/src/bert/dcfemmodelling.cpp:1424\t\n",
      "*** check /home/florian/miniconda3/conda-bld/pgcore_1645022399690/work/gimli/core/src/bert/dcfemmodelling.cpp:1424\t\n",
      "*** check /home/florian/miniconda3/conda-bld/pgcore_1645022399690/work/gimli/core/src/bert/dcfemmodelling.cpp:1424\t\n",
      "*** check /home/florian/miniconda3/conda-bld/pgcore_1645022399690/work/gimli/core/src/bert/dcfemmodelling.cpp:1424\t\n",
      "*** check /home/florian/miniconda3/conda-bld/pgcore_1645022399690/work/gimli/core/src/bert/dcfemmodelling.cpp:1424\t\n",
      "*** check /home/florian/miniconda3/conda-bld/pgcore_1645022399690/work/gimli/core/src/bert/dcfemmodelling.cpp:1424\t\n",
      "*** check /home/florian/miniconda3/conda-bld/pgcore_1645022399690/work/gimli/core/src/bert/dcfemmodelling.cpp:1424\t\n",
      "*** check /home/florian/miniconda3/conda-bld/pgcore_1645022399690/work/gimli/core/src/bert/dcfemmodelling.cpp:1424\t\n",
      "*** check /home/florian/miniconda3/conda-bld/pgcore_1645022399690/work/gimli/core/src/bert/dcfemmodelling.cpp:1424\t\n",
      "*** check /home/florian/miniconda3/conda-bld/pgcore_1645022399690/work/gimli/core/src/bert/dcfemmodelling.cpp:1424\t\n",
      "*** check /home/florian/miniconda3/conda-bld/pgcore_1645022399690/work/gimli/core/src/bert/dcfemmodelling.cpp:1424\t\n",
      "*** check /home/florian/miniconda3/conda-bld/pgcore_1645022399690/work/gimli/core/src/bert/dcfemmodelling.cpp:1424\t\n",
      "*** check /home/florian/miniconda3/conda-bld/pgcore_1645022399690/work/gimli/core/src/bert/dcfemmodelling.cpp:1424\t\n",
      "*** check /home/florian/miniconda3/conda-bld/pgcore_1645022399690/work/gimli/core/src/bert/dcfemmodelling.cpp:1424\t\n",
      "*** check /home/florian/miniconda3/conda-bld/pgcore_1645022399690/work/gimli/core/src/bert/dcfemmodelling.cpp:1424\t\n",
      "*** check /home/florian/miniconda3/conda-bld/pgcore_1645022399690/work/gimli/core/src/bert/dcfemmodelling.cpp:1424\t\n",
      "*** check /home/florian/miniconda3/conda-bld/pgcore_1645022399690/work/gimli/core/src/bert/dcfemmodelling.cpp:1424\t\n",
      "*** check /home/florian/miniconda3/conda-bld/pgcore_1645022399690/work/gimli/core/src/bert/dcfemmodelling.cpp:1424\t\n",
      "data misfit: 0.02864643215647363, reg: 0.0910025773940807\n",
      "data misfit: 0.02864643215647363, reg: 0.0910025773940807\n",
      "Iteration #10, objective value: 0.11964900955055432\n",
      "*** check /home/florian/miniconda3/conda-bld/pgcore_1645022399690/work/gimli/core/src/bert/dcfemmodelling.cpp:1424\t\n",
      "*** check /home/florian/miniconda3/conda-bld/pgcore_1645022399690/work/gimli/core/src/bert/dcfemmodelling.cpp:1424\t\n",
      "\n",
      "Solver message: Maximum number of iterations has been exceeded.\n"
     ]
    }
   ],
   "source": [
    "inv_scipy = cofi.Inversion(dcip_problem, inv_options_scipy)\n",
    "inv_result_scipy = inv_scipy.run()\n",
    "print(f\"\\nSolver message: {inv_result_scipy.message}\")"
   ]
  },
  {
   "cell_type": "code",
   "execution_count": 26,
   "id": "0ce69780-f16c-4ec8-8e7f-a76b497aa8c9",
   "metadata": {
    "execution": {
     "iopub.execute_input": "2022-11-23T00:45:57.214683Z",
     "iopub.status.busy": "2022-11-23T00:45:57.214434Z",
     "iopub.status.idle": "2022-11-23T00:46:01.819267Z",
     "shell.execute_reply": "2022-11-23T00:46:01.818771Z"
    },
    "papermill": {
     "duration": 4.623689,
     "end_time": "2022-11-23T00:46:01.820613",
     "exception": false,
     "start_time": "2022-11-23T00:45:57.196924",
     "status": "completed"
    },
    "tags": []
   },
   "outputs": [],
   "source": [
    "model_scipy = np.exp(complex_from_real(inv_result_scipy.model))\n",
    "# plot_model(inv_mesh, model_scipy, \"Inferred model (scipy's trust-ncg)\")\n",
    "\n",
    "synth_data_scipy = np.exp(get_response(np.log(model_scipy), forward_oprt))\n",
    "# plot_data(pg_data, synth_data_scipy, \"Inferred model produced data\")"
   ]
  },
  {
   "cell_type": "markdown",
   "id": "fe64883e-50f6-47ad-ae4b-1782c235bcf9",
   "metadata": {
    "papermill": {
     "duration": 0.032023,
     "end_time": "2022-11-23T00:46:01.865686",
     "exception": false,
     "start_time": "2022-11-23T00:46:01.833663",
     "status": "completed"
    },
    "tags": []
   },
   "source": [
    "### Compare with UBC results"
   ]
  },
  {
   "cell_type": "code",
   "execution_count": 27,
   "id": "4d74e0e1-e3ba-445f-b62f-98e5b06db411",
   "metadata": {
    "execution": {
     "iopub.execute_input": "2022-11-23T00:46:01.889015Z",
     "iopub.status.busy": "2022-11-23T00:46:01.888377Z",
     "iopub.status.idle": "2022-11-23T00:46:02.769101Z",
     "shell.execute_reply": "2022-11-23T00:46:02.768637Z"
    },
    "papermill": {
     "duration": 0.89408,
     "end_time": "2022-11-23T00:46:02.770795",
     "exception": false,
     "start_time": "2022-11-23T00:46:01.876715",
     "status": "completed"
    },
    "tags": []
   },
   "outputs": [
    {
     "data": {
      "image/png": "[encoded data removed]",
      "text/plain": [
       "<Figure size 1000x1200 with 8 Axes>"
      ]
     },
     "metadata": {},
     "output_type": "display_data"
    }
   ],
   "source": [
    "model_ref_dc = reference_dc_model()\n",
    "model_ref_ip = reference_ip_model()\n",
    "model_ref = rho_phi_to_complex(model_ref_dc, model_ref_ip)\n",
    "plot_comparison(inv_mesh, \n",
    "                model_ref, \n",
    "                \"Mutton A. J. (2000).\", \n",
    "                inv_mesh, \n",
    "                model_scipy, \n",
    "                \"Inference result\", \n",
    "                np.min(model_ref_dc), \n",
    "                np.max(model_ref_dc),\n",
    "                np.min(model_ref_ip), \n",
    "                np.max(model_ref_ip),\n",
    "               )"
   ]
  },
  {
   "cell_type": "markdown",
   "id": "718e099b-64bf-40e1-9bc8-6e7e523a0722",
   "metadata": {
    "papermill": {
     "duration": 0.015575,
     "end_time": "2022-11-23T00:46:02.801526",
     "exception": false,
     "start_time": "2022-11-23T00:46:02.785951",
     "status": "completed"
    },
    "tags": []
   },
   "source": [
    "---\n",
    "## Watermark"
   ]
  },
  {
   "cell_type": "code",
   "execution_count": 28,
   "id": "0bfea98e-a12c-4ec9-84e3-203224a7b8c8",
   "metadata": {
    "execution": {
     "iopub.execute_input": "2022-11-23T00:46:02.828678Z",
     "iopub.status.busy": "2022-11-23T00:46:02.828401Z",
     "iopub.status.idle": "2022-11-23T00:46:03.318789Z",
     "shell.execute_reply": "2022-11-23T00:46:03.318343Z"
    },
    "papermill": {
     "duration": 0.505253,
     "end_time": "2022-11-23T00:46:03.319793",
     "exception": false,
     "start_time": "2022-11-23T00:46:02.814540",
     "status": "completed"
    },
    "tags": []
   },
   "outputs": [
    {
     "name": "stdout",
     "output_type": "stream",
     "text": [
      "cofi 0.1.2.dev22\n",
      "numpy 1.21.6\n",
      "scipy 1.9.1\n",
      "pygimli 1.2.6\n",
      "torch 1.12.1+cu102\n",
      "matplotlib 3.5.3\n"
     ]
    }
   ],
   "source": [
    "watermark_list = [\"cofi\", \"numpy\", \"scipy\", \"pygimli\", \"torch\", \"matplotlib\"]\n",
    "for pkg in watermark_list:\n",
    "    pkg_var = __import__(pkg)\n",
    "    print(pkg, getattr(pkg_var, \"__version__\"))"
   ]
  }
 ],
 "metadata": {
  "kernelspec": {
   "display_name": "Python 3 (ipykernel)",
   "language": "python",
   "name": "python3"
  },
  "language_info": {
   "codemirror_mode": {
    "name": "ipython",
    "version": 3
   },
   "file_extension": ".py",
   "mimetype": "text/x-python",
   "name": "python",
   "nbconvert_exporter": "python",
   "pygments_lexer": "ipython3",
   "version": "3.10.6"
  },
  "papermill": {
   "default_parameters": {},
   "duration": 1434.881568,
   "end_time": "2022-11-23T00:46:03.980633",
   "environment_variables": {},
   "exception": null,
   "input_path": "examples/pygimli_dcip/pygimli_dcip_century_rect_mesh.ipynb",
   "output_path": "examples/pygimli_dcip/pygimli_dcip_century_rect_mesh.ipynb",
   "parameters": {},
   "start_time": "2022-11-23T00:22:09.099065",
   "version": "2.4.0"
  }
 },
 "nbformat": 4,
 "nbformat_minor": 5
}
